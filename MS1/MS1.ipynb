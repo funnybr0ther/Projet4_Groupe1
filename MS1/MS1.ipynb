{
 "metadata": {
  "language_info": {
   "codemirror_mode": {
    "name": "ipython",
    "version": 3
   },
   "file_extension": ".py",
   "mimetype": "text/x-python",
   "name": "python",
   "nbconvert_exporter": "python",
   "pygments_lexer": "ipython3",
   "version": "3.8.5-final"
  },
  "orig_nbformat": 2,
  "kernelspec": {
   "name": "python3",
   "display_name": "Python 3.8.5 64-bit",
   "metadata": {
    "interpreter": {
     "hash": "916dbcbb3f70747c44a77c7bcd40155683ae19c65e1c03b4aa3499c5328201f1"
    }
   }
  }
 },
 "nbformat": 4,
 "nbformat_minor": 2,
 "cells": [
  {
   "cell_type": "code",
   "execution_count": null,
   "metadata": {},
   "outputs": [],
   "source": [
    "import numpy as np\n",
    "import scipy as sc\n",
    "import scipy.io as sci\n",
    "import matplotlib.pyplot as plt\n",
    "import matplotlib as mpl\n",
    "from mpl_toolkits.mplot3d import Axes3D\n",
    "from matplotlib import cm\n",
    "import plotly.graph_objects as go\n",
    "\n",
    "data = sci.loadmat(\"Diagramme 1 patch.mat\")"
   ]
  },
  {
   "source": [
    "# Question 1"
   ],
   "cell_type": "markdown",
   "metadata": {}
  },
  {
   "cell_type": "code",
   "execution_count": null,
   "metadata": {},
   "outputs": [],
   "source": [
    "h = np.array(data['h'])\n",
    "ph = np.array(data['ph'])\n",
    "th = np.array(data['th'])\n",
    "v = np.array(data['v'])\n",
    "\n",
    "print(h.shape)\n",
    "print(ph.shape)\n",
    "print(ph)\n",
    "print(th)\n",
    "# print(th.shape)\n",
    "# print(v.shape)\n",
    "\n",
    "# x,y = np.meshgrid(ph,th)\n",
    "# print(x.shape)\n",
    "# print(y.shape)\n",
    "\n",
    "# # print(h)\n",
    "# fig = plt.figure()\n",
    "# ax = fig.gca(projection='3d')\n",
    "# ax.plot(x, y, h, label='parametric curve')\n",
    "\n",
    "## Function of phi\n",
    "index_in_theta = 23\n",
    "\n",
    "plt.plot(ph.reshape((90,)),h[index_in_theta])\n",
    "plt.title(\"Function of phi when theta = \" + str(th[index_in_theta,0]))\n",
    "plt.show()\n",
    "# Function of theta\n",
    "index_in_phi = 45\n",
    "plt.plot(th.reshape((46,)),h[:,index_in_phi])\n",
    "# plt.title(\"Function of phi when theta = \" + str(ph[0,index_in_phi]))\n",
    "\n",
    "index_in_phi2 = 89\n",
    "plt.plot(th.reshape((46,)),h[:,index_in_phi2])\n",
    "plt.title(\"Function of phi when phi = \" + str(ph[0,index_in_phi]) + \"and \" +  str(ph[0,index_in_phi2]))\n",
    "\n",
    "\n"
   ]
  },
  {
   "cell_type": "code",
   "execution_count": null,
   "metadata": {},
   "outputs": [],
   "source": [
    "# PHI,THETA = np.meshgrid(ph.reshape((90,)),th.reshape((46,)))\n",
    "# fig = plt.figure()\n",
    "# ax = fig.gca(projection='3d')\n",
    "\n",
    "# surf = ax.plot_surface(THETA, PHI, h, cmap=cm.coolwarm,linewidth=0, antialiased=False)\n",
    "fig = go.Figure(data=[go.Surface(z=np.abs(h), x=ph.reshape((90,)), y=th.reshape((46,)))])\n",
    "fig.show()"
   ]
  },
  {
   "cell_type": "code",
   "execution_count": null,
   "metadata": {},
   "outputs": [],
   "source": [
    "h = np.array(data['h'])\n",
    "ph = np.array(data['ph'])\n",
    "th = np.array(data['th'])\n",
    "v = np.array(data['v'])\n",
    "\n",
    "print(h.shape)\n",
    "print(ph.shape)\n",
    "print(ph)\n",
    "print(th)\n",
    "# print(th.shape)\n",
    "# print(v.shape)\n",
    "\n",
    "# x,y = np.meshgrid(ph,th)\n",
    "# print(x.shape)\n",
    "# print(y.shape)\n",
    "\n",
    "# # print(h)\n",
    "# fig = plt.figure()\n",
    "# ax = fig.gca(projection='3d')\n",
    "# ax.plot(x, y, h, label='parametric curve')\n",
    "\n",
    "## Function of phi\n",
    "index_in_theta = 23\n",
    "\n",
    "plt.plot(ph.reshape((90,)),v[index_in_theta])\n",
    "plt.title(\"Function of phi when theta = \" + str(th[index_in_theta,0]))\n",
    "plt.show()\n",
    "# Function of theta\n",
    "index_in_phi = 45\n",
    "plt.plot(th.reshape((46,)),v[:,index_in_phi])\n",
    "# plt.title(\"Function of phi when theta = \" + str(ph[0,index_in_phi]))\n",
    "\n",
    "index_in_phi2 = 89\n",
    "plt.plot(th.reshape((46,)),v[:,index_in_phi2])\n",
    "plt.title(\"Function of phi when phi = \" + str(ph[0,index_in_phi]) + \"and \" +  str(ph[0,index_in_phi2]))\n",
    "\n"
   ]
  },
  {
   "cell_type": "code",
   "execution_count": null,
   "metadata": {},
   "outputs": [],
   "source": [
    "# PHI,THETA = np.meshgrid(ph.reshape((90,)),th.reshape((46,)))\n",
    "# fig = plt.figure()\n",
    "# ax = fig.gca(projection='3d')\n",
    "\n",
    "# surf = ax.plot_surface(THETA, PHI, h, cmap=cm.coolwarm,linewidth=0, antialiased=False)\n",
    "fig = go.Figure(data=[go.Surface(z=np.abs(v), x=ph.reshape((90,)), y=th.reshape((46,)))])\n",
    "fig.show()"
   ]
  },
  {
   "cell_type": "code",
   "execution_count": null,
   "metadata": {},
   "outputs": [],
   "source": []
  }
 ]
}