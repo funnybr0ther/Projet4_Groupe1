{
 "cells": [
  {
   "cell_type": "code",
   "execution_count": null,
   "id": "russian-final",
   "metadata": {},
   "outputs": [],
   "source": [
    "import sympy\n",
    "from sympy.abc import x, k\n",
    "sympy.init_printing()\n",
    "\n",
    "f_0 = sympy.Symbol('f_0')\n",
    "sympy.fourier_transform(sympy.cos(2*sympy.pi*f_0*x),x,k).rewrite('Integral')\n"
   ]
  },
  {
   "cell_type": "markdown",
   "id": "treated-polls",
   "metadata": {},
   "source": [
    "# Q2 - Q5"
   ]
  },
  {
   "cell_type": "code",
   "execution_count": null,
   "id": "noted-sacrifice",
   "metadata": {},
   "outputs": [],
   "source": [
    "import numpy as np\n",
    "import plotly.graph_objects as go\n",
    "\n",
    "\n",
    "freq_0 = 1e4 #Hz\n",
    "freq_sample = 5e4 #Hz\n",
    "\n",
    "T_sample = 1/freq_sample\n",
    "\n",
    "sig = lambda x: np.cos(2*np.pi*freq_0*x)\n",
    "\n",
    "sig = lambda x: np.e**(2*np.pi*1j*freq_0*x)\n",
    "\n",
    "def fourier(sig,N_sample,T_sample):\n",
    "    x = np.arange(N_sample)\n",
    "    sig_val = sig(x*T_sample)\n",
    "    freq = np.fft.fftfreq(x.shape[-1],d=T_sample) #horizontal axis is frequencies\n",
    "    fft = np.fft.fft(sig_val)\n",
    "    return freq, 20*np.log((fft.imag**2+fft.real**2)**0.5)\n",
    "    \n",
    "\n",
    "#\n",
    "fig = go.Figure()\n",
    "N_sample = 100\n",
    "fourier_1 = fourier(sig, N_sample,T_sample)\n",
    "fig.add_trace(go.Scatter(x=fourier_1[0],y=fourier_1[1]))\n",
    "fig.show()\n",
    "\n",
    "#\n",
    "fig = go.Figure()\n",
    "N_sample = 101\n",
    "fourier_1 = fourier(sig, N_sample,T_sample)\n",
    "fig.add_trace(go.Scatter(x=fourier_1[0],y=fourier_1[1]))\n",
    "fig.show()\n",
    "\n",
    "#\n",
    "fig = go.Figure()\n",
    "N_sample = 1000\n",
    "fourier_1 = fourier(sig, N_sample,T_sample)\n",
    "fig.add_trace(go.Scatter(x=fourier_1[0],y=fourier_1[1]))\n",
    "fig.show()\n"
   ]
  },
  {
   "cell_type": "markdown",
   "id": "julian-invitation",
   "metadata": {},
   "source": [
    "# Q6"
   ]
  },
  {
   "cell_type": "code",
   "execution_count": null,
   "id": "identified-association",
   "metadata": {},
   "outputs": [],
   "source": [
    "data = np.load('MS0.npz')\n",
    "\n",
    "f_sample = data['fs']\n",
    "T_sample = 1/data['fs']\n",
    "amp = 2 * np.sqrt(2)\n",
    "\n",
    "sig = data['y']\n",
    "\n",
    "sig = sig[~np.isnan(sig)] #Clear nan values\n",
    "\n",
    "from scipy import signal\n",
    "import matplotlib.pyplot as plt\n",
    "\n",
    "f, t, Zxx =signal.stft(sig,f_sample,nperseg=10000)\n",
    "print(Zxx.shape)\n",
    "print(np.abs(Zxx))\n",
    "plt.pcolormesh(t, f, np.abs(Zxx), vmax=0.1, shading='gouraud')\n",
    "plt.ylim([-100,-15])\n",
    "plt.show()\n",
    "\n"
   ]
  }
 ],
 "metadata": {
  "kernelspec": {
   "display_name": "Python 3",
   "language": "python",
   "name": "python3"
  },
  "language_info": {
   "codemirror_mode": {
    "name": "ipython",
    "version": 3
   },
   "file_extension": ".py",
   "mimetype": "text/x-python",
   "name": "python",
   "nbconvert_exporter": "python",
   "pygments_lexer": "ipython3",
   "version": "3.9.1"
  }
 },
 "nbformat": 4,
 "nbformat_minor": 5
}
