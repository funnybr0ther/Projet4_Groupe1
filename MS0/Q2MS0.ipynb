{
 "cells": [
  {
   "cell_type": "code",
   "execution_count": null,
   "id": "designed-person",
   "metadata": {},
   "outputs": [],
   "source": [
    "import sympy\n",
    "from sympy.abc import x, k\n",
    "sympy.init_printing()\n",
    "\n",
    "f_0 = sympy.Symbol('f_0')\n",
    "sympy.fourier_transform(sympy.cos(2*sympy.pi*f_0*x),x,k).rewrite('Integral')\n"
   ]
  },
  {
   "cell_type": "markdown",
   "id": "related-crack",
   "metadata": {},
   "source": [
    "# Q2 - Q5"
   ]
  },
  {
   "cell_type": "code",
   "execution_count": null,
   "id": "needed-flashing",
   "metadata": {},
   "outputs": [],
   "source": [
    "import numpy as np\n",
    "import plotly.graph_objects as go\n",
    "\n",
    "\n",
    "freq_0 = 1e4 #Hz\n",
    "freq_sample = 5e4 #Hz\n",
    "\n",
    "T_sample = 1/freq_sample\n",
    "\n",
    "sig = lambda x: np.cos(2*np.pi*freq_0*x)\n",
    "\n",
    "sig = lambda x: np.e**(2*np.pi*1j*freq_0*x)\n",
    "\n",
    "def fourier(sig,N_sample,T_sample):\n",
    "    x = np.arange(N_sample)\n",
    "    sig_val = sig(x*T_sample)\n",
    "    freq = np.fft.fftfreq(x.shape[-1],d=T_sample) #horizontal axis is frequencies\n",
    "    fft = np.fft.fft(sig_val)\n",
    "    return freq, 20*np.log((fft.imag**2+fft.real**2)**0.5)\n",
    "    \n",
    "\n",
    "#\n",
    "fig = go.Figure()\n",
    "N_sample = 100\n",
    "fourier_1 = fourier(sig, N_sample,T_sample)\n",
    "np.savetxt(\"Q4MS0data.elio\",np.column_stack((np.reshape(fourier_1[0],(fourier_1[0].shape[0],1)),np.reshape(fourier_1[1],(fourier_1[1].shape[0],1)))),header='x, y',delimiter=\",\",comments=\"\")\n",
    "\n",
    "fig.add_trace(go.Scatter(x=fourier_1[0],y=fourier_1[1]))\n",
    "fig.show()\n",
    "\n",
    "#\n",
    "fig = go.Figure()\n",
    "N_sample = 101\n",
    "fourier_1 = fourier(sig, N_sample,T_sample)\n",
    "np.savetxt(\"Q4MS0data.elio\",np.column_stack((np.reshape(fourier_1[0],(fourier_1[0].shape[0],1)),np.reshape(fourier_1[1],(fourier_1[1].shape[0],1)))),header='x, y',delimiter=\",\",comments=\"\")\n",
    "fig.add_trace(go.Scatter(x=fourier_1[0],y=fourier_1[1]))\n",
    "fig.show()\n",
    "\n",
    "#\n",
    "fig = go.Figure()\n",
    "N_sample = 1000\n",
    "fourier_1 = fourier(sig, N_sample,T_sample)\n",
    "np.savetxt(\"Q4MS0data.elio\",np.column_stack((np.reshape(fourier_1[0],(fourier_1[0].shape[0],1)),np.reshape(fourier_1[1],(fourier_1[1].shape[0],1)))),header='x, y',delimiter=\",\",comments=\"\")\n",
    "fig.add_trace(go.Scatter(x=fourier_1[0],y=fourier_1[1]))\n",
    "fig.show()\n"
   ]
  },
  {
   "cell_type": "markdown",
   "id": "complete-reach",
   "metadata": {},
   "source": [
    "# Q6"
   ]
  },
  {
   "cell_type": "code",
   "execution_count": null,
   "id": "afraid-nelson",
   "metadata": {},
   "outputs": [],
   "source": [
    "data = np.load('MS0.npz')\n",
    "\n",
    "f_sample = data['fs']\n",
    "T_sample = 1/data['fs']\n",
    "amp = 2 * np.sqrt(2)\n",
    "\n",
    "sig = data['y']\n",
    "\n",
    "sig = sig[~np.isnan(sig)] #Clear nan values\n",
    "\n",
    "from scipy import signal\n",
    "import matplotlib.pyplot as plt\n",
    "\n",
    "f, t, Zxx =signal.stft(sig,f_sample,nperseg=10000,return_onesided=False)\n",
    "\n",
    "plt.pcolormesh(t, f, np.abs(Zxx), vmax=0.1, shading='gouraud')\n",
    "plt.ylim([-100,-15])\n",
    "plt.show()\n",
    "\n",
    "fig = go.Figure()\n",
    "\n",
    "\n",
    "#fig.add_trace(go.Heatmap(x0=0,dx=0.0482,y0=-40000,dy=8,z=np.abs(Zxx)[np.argsort(f)],zmin=0,zmax=0.25,zsmooth = 'best'))\n",
    "fig.add_trace(go.Heatmap(x=t,y=f[np.argsort(f)],z=np.abs(Zxx)[np.argsort(f)],zmin=0,zmax=0.25,zsmooth = 'best',colorbar=dict(title=\"Amplitude\")))\n",
    "\n",
    "#print(f[index])\n",
    "fig.update_layout(yaxis_range=[-100,-15], xaxis_title=\"Time [s]\", yaxis_title=\"Frequency [Hz]\",title_text=\"STFT of a moving chair @2.4GHz\")\n",
    "fig.show()\n",
    "\n"
   ]
  },
  {
   "cell_type": "code",
   "execution_count": 2,
   "metadata": {
    "scrolled": true
   },
   "outputs": [
    {
     "name": "stdout",
     "output_type": "stream",
     "text": [
      "7.5\n",
      "4.5\n"
     ]
    }
   ],
   "source": [
    "#Calculate velocity\n",
    "def getV(freq_em,diff_freq):\n",
    "    return diff_freq*3e8/freq_em\n",
    "print(getV(4e9,100))\n",
    "print(getV(4e9,60))"
   ]
  },
  {
   "cell_type": "code",
   "execution_count": null,
   "metadata": {},
   "outputs": [],
   "source": []
  }
 ],
 "metadata": {
  "kernelspec": {
   "display_name": "Python 3.8.5 64-bit",
   "language": "python",
   "name": "python38564bit607eaa04efce498abe025299c025d09f"
  },
  "language_info": {
   "codemirror_mode": {
    "name": "ipython",
    "version": 3
   },
   "file_extension": ".py",
   "mimetype": "text/x-python",
   "name": "python",
   "nbconvert_exporter": "python",
   "pygments_lexer": "ipython3",
   "version": "3.8.3"
  }
 },
 "nbformat": 4,
 "nbformat_minor": 5
}
