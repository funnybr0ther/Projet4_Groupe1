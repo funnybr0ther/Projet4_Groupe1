{
 "cells": [
  {
   "cell_type": "code",
   "execution_count": 38,
   "id": "agricultural-christian",
   "metadata": {},
   "outputs": [
    {
     "data": {
      "application/vnd.plotly.v1+json": {
       "config": {
        "plotlyServerURL": "https://plot.ly"
       },
       "data": [
        {
         "type": "scatter",
         "x": [
          0,
          500,
          1000,
          1500,
          2000,
          2500,
          3000,
          3500,
          4000,
          4500,
          5000,
          5500,
          6000,
          6500,
          7000,
          7500,
          8000,
          8500,
          9000,
          9500,
          10000,
          10500,
          11000,
          11500,
          12000,
          12500,
          13000,
          13500,
          14000,
          14500,
          15000,
          15500,
          16000,
          16500,
          17000,
          17500,
          18000,
          18500,
          19000,
          19500,
          20000,
          20500,
          21000,
          21500,
          22000,
          22500,
          23000,
          23500,
          24000,
          24500,
          -25000,
          -24500,
          -24000,
          -23500,
          -23000,
          -22500,
          -22000,
          -21500,
          -21000,
          -20500,
          -20000,
          -19500,
          -19000,
          -18500,
          -18000,
          -17500,
          -17000,
          -16500,
          -16000,
          -15500,
          -15000,
          -14500,
          -14000,
          -13500,
          -13000,
          -12500,
          -12000,
          -11500,
          -11000,
          -10500,
          -10000,
          -9500,
          -9000,
          -8500,
          -8000,
          -7500,
          -7000,
          -6500,
          -6000,
          -5500,
          -5000,
          -4500,
          -4000,
          -3500,
          -3000,
          -2500,
          -2000,
          -1500,
          -1000,
          -500
         ],
         "y": [
          -646.361205289041,
          -625.3131411226274,
          -624.6555931828372,
          -599.2747801060402,
          -600.5443410235947,
          -614.062383149734,
          -591.0823483900074,
          -604.2303255226126,
          -611.3426991545508,
          -609.2274625929433,
          -626.0197872055126,
          -638.9829641935391,
          -619.5478624156113,
          -623.8798844530392,
          -623.683864772138,
          -617.3800008517287,
          -636.6675249259695,
          -630.1200876273854,
          -619.759863945673,
          -626.7862725921786,
          -609.2099501827845,
          -621.8841141354042,
          -633.8436533318702,
          -614.3831324723085,
          -620.4924169566932,
          -615.0531027364799,
          -604.3485187535537,
          -600.6347792071234,
          -598.5240131158646,
          -640.780093747813,
          -618.8811332780399,
          -641.6457747684369,
          -598.5912447507167,
          -600.6381228028852,
          -604.3644670546668,
          -615.0842785357517,
          -622.6079598794734,
          -614.6350378035173,
          -634.5665879271234,
          -622.2050686436087,
          -613.3700263207992,
          -626.6845729480715,
          -620.0378173169986,
          -630.2092588231156,
          -634.5855799156994,
          -617.7041059231261,
          -624.0123607040616,
          -623.6645828104408,
          -620.4479744158458,
          -639.1078947502674,
          -626.3725470731582,
          -609.258975775597,
          -612.4166935480132,
          -604.2024364674375,
          -591.117614402794,
          -613.9669923168848,
          -600.3107196450079,
          -599.3625915968253,
          -624.9218577258447,
          -625.3182089072238,
          -638.8320114977113,
          -621.6936438159895,
          -631.9642223677265,
          -651.5226569461574,
          -636.9118343297217,
          -673.9405004579269,
          -624.9466417302384,
          -619.1788989304706,
          -624.022498756104,
          -629.837245736901,
          -613.5983309178663,
          -622.1379673841286,
          -633.1128361660991,
          -613.2968372437728,
          -613.2926849245755,
          -606.2502346829434,
          -621.8694514429326,
          -622.3460317307853,
          -608.1204523528978,
          -592.8255230942483,
          92.10340371976184,
          -592.838264815225,
          -607.979495165083,
          -623.0941971872257,
          -621.2631433243237,
          -606.135944828216,
          -613.2919413284676,
          -613.400719055093,
          -632.8526997529029,
          -621.7848225690434,
          -613.8027581597097,
          -630.1018755243874,
          -623.6718209372407,
          -619.3697850947729,
          -626.0284468299419,
          -668.8709646381647,
          -636.4724296668315,
          -651.9228432739585,
          -630.6756040807529,
          -621.7393139561658
         ]
        }
       ],
       "layout": {
        "autosize": true,
        "template": {
         "data": {
          "bar": [
           {
            "error_x": {
             "color": "#2a3f5f"
            },
            "error_y": {
             "color": "#2a3f5f"
            },
            "marker": {
             "line": {
              "color": "#E5ECF6",
              "width": 0.5
             }
            },
            "type": "bar"
           }
          ],
          "barpolar": [
           {
            "marker": {
             "line": {
              "color": "#E5ECF6",
              "width": 0.5
             }
            },
            "type": "barpolar"
           }
          ],
          "carpet": [
           {
            "aaxis": {
             "endlinecolor": "#2a3f5f",
             "gridcolor": "white",
             "linecolor": "white",
             "minorgridcolor": "white",
             "startlinecolor": "#2a3f5f"
            },
            "baxis": {
             "endlinecolor": "#2a3f5f",
             "gridcolor": "white",
             "linecolor": "white",
             "minorgridcolor": "white",
             "startlinecolor": "#2a3f5f"
            },
            "type": "carpet"
           }
          ],
          "choropleth": [
           {
            "colorbar": {
             "outlinewidth": 0,
             "ticks": ""
            },
            "type": "choropleth"
           }
          ],
          "contour": [
           {
            "colorbar": {
             "outlinewidth": 0,
             "ticks": ""
            },
            "colorscale": [
             [
              0,
              "#0d0887"
             ],
             [
              0.1111111111111111,
              "#46039f"
             ],
             [
              0.2222222222222222,
              "#7201a8"
             ],
             [
              0.3333333333333333,
              "#9c179e"
             ],
             [
              0.4444444444444444,
              "#bd3786"
             ],
             [
              0.5555555555555556,
              "#d8576b"
             ],
             [
              0.6666666666666666,
              "#ed7953"
             ],
             [
              0.7777777777777778,
              "#fb9f3a"
             ],
             [
              0.8888888888888888,
              "#fdca26"
             ],
             [
              1,
              "#f0f921"
             ]
            ],
            "type": "contour"
           }
          ],
          "contourcarpet": [
           {
            "colorbar": {
             "outlinewidth": 0,
             "ticks": ""
            },
            "type": "contourcarpet"
           }
          ],
          "heatmap": [
           {
            "colorbar": {
             "outlinewidth": 0,
             "ticks": ""
            },
            "colorscale": [
             [
              0,
              "#0d0887"
             ],
             [
              0.1111111111111111,
              "#46039f"
             ],
             [
              0.2222222222222222,
              "#7201a8"
             ],
             [
              0.3333333333333333,
              "#9c179e"
             ],
             [
              0.4444444444444444,
              "#bd3786"
             ],
             [
              0.5555555555555556,
              "#d8576b"
             ],
             [
              0.6666666666666666,
              "#ed7953"
             ],
             [
              0.7777777777777778,
              "#fb9f3a"
             ],
             [
              0.8888888888888888,
              "#fdca26"
             ],
             [
              1,
              "#f0f921"
             ]
            ],
            "type": "heatmap"
           }
          ],
          "heatmapgl": [
           {
            "colorbar": {
             "outlinewidth": 0,
             "ticks": ""
            },
            "colorscale": [
             [
              0,
              "#0d0887"
             ],
             [
              0.1111111111111111,
              "#46039f"
             ],
             [
              0.2222222222222222,
              "#7201a8"
             ],
             [
              0.3333333333333333,
              "#9c179e"
             ],
             [
              0.4444444444444444,
              "#bd3786"
             ],
             [
              0.5555555555555556,
              "#d8576b"
             ],
             [
              0.6666666666666666,
              "#ed7953"
             ],
             [
              0.7777777777777778,
              "#fb9f3a"
             ],
             [
              0.8888888888888888,
              "#fdca26"
             ],
             [
              1,
              "#f0f921"
             ]
            ],
            "type": "heatmapgl"
           }
          ],
          "histogram": [
           {
            "marker": {
             "colorbar": {
              "outlinewidth": 0,
              "ticks": ""
             }
            },
            "type": "histogram"
           }
          ],
          "histogram2d": [
           {
            "colorbar": {
             "outlinewidth": 0,
             "ticks": ""
            },
            "colorscale": [
             [
              0,
              "#0d0887"
             ],
             [
              0.1111111111111111,
              "#46039f"
             ],
             [
              0.2222222222222222,
              "#7201a8"
             ],
             [
              0.3333333333333333,
              "#9c179e"
             ],
             [
              0.4444444444444444,
              "#bd3786"
             ],
             [
              0.5555555555555556,
              "#d8576b"
             ],
             [
              0.6666666666666666,
              "#ed7953"
             ],
             [
              0.7777777777777778,
              "#fb9f3a"
             ],
             [
              0.8888888888888888,
              "#fdca26"
             ],
             [
              1,
              "#f0f921"
             ]
            ],
            "type": "histogram2d"
           }
          ],
          "histogram2dcontour": [
           {
            "colorbar": {
             "outlinewidth": 0,
             "ticks": ""
            },
            "colorscale": [
             [
              0,
              "#0d0887"
             ],
             [
              0.1111111111111111,
              "#46039f"
             ],
             [
              0.2222222222222222,
              "#7201a8"
             ],
             [
              0.3333333333333333,
              "#9c179e"
             ],
             [
              0.4444444444444444,
              "#bd3786"
             ],
             [
              0.5555555555555556,
              "#d8576b"
             ],
             [
              0.6666666666666666,
              "#ed7953"
             ],
             [
              0.7777777777777778,
              "#fb9f3a"
             ],
             [
              0.8888888888888888,
              "#fdca26"
             ],
             [
              1,
              "#f0f921"
             ]
            ],
            "type": "histogram2dcontour"
           }
          ],
          "mesh3d": [
           {
            "colorbar": {
             "outlinewidth": 0,
             "ticks": ""
            },
            "type": "mesh3d"
           }
          ],
          "parcoords": [
           {
            "line": {
             "colorbar": {
              "outlinewidth": 0,
              "ticks": ""
             }
            },
            "type": "parcoords"
           }
          ],
          "pie": [
           {
            "automargin": true,
            "type": "pie"
           }
          ],
          "scatter": [
           {
            "marker": {
             "colorbar": {
              "outlinewidth": 0,
              "ticks": ""
             }
            },
            "type": "scatter"
           }
          ],
          "scatter3d": [
           {
            "line": {
             "colorbar": {
              "outlinewidth": 0,
              "ticks": ""
             }
            },
            "marker": {
             "colorbar": {
              "outlinewidth": 0,
              "ticks": ""
             }
            },
            "type": "scatter3d"
           }
          ],
          "scattercarpet": [
           {
            "marker": {
             "colorbar": {
              "outlinewidth": 0,
              "ticks": ""
             }
            },
            "type": "scattercarpet"
           }
          ],
          "scattergeo": [
           {
            "marker": {
             "colorbar": {
              "outlinewidth": 0,
              "ticks": ""
             }
            },
            "type": "scattergeo"
           }
          ],
          "scattergl": [
           {
            "marker": {
             "colorbar": {
              "outlinewidth": 0,
              "ticks": ""
             }
            },
            "type": "scattergl"
           }
          ],
          "scattermapbox": [
           {
            "marker": {
             "colorbar": {
              "outlinewidth": 0,
              "ticks": ""
             }
            },
            "type": "scattermapbox"
           }
          ],
          "scatterpolar": [
           {
            "marker": {
             "colorbar": {
              "outlinewidth": 0,
              "ticks": ""
             }
            },
            "type": "scatterpolar"
           }
          ],
          "scatterpolargl": [
           {
            "marker": {
             "colorbar": {
              "outlinewidth": 0,
              "ticks": ""
             }
            },
            "type": "scatterpolargl"
           }
          ],
          "scatterternary": [
           {
            "marker": {
             "colorbar": {
              "outlinewidth": 0,
              "ticks": ""
             }
            },
            "type": "scatterternary"
           }
          ],
          "surface": [
           {
            "colorbar": {
             "outlinewidth": 0,
             "ticks": ""
            },
            "colorscale": [
             [
              0,
              "#0d0887"
             ],
             [
              0.1111111111111111,
              "#46039f"
             ],
             [
              0.2222222222222222,
              "#7201a8"
             ],
             [
              0.3333333333333333,
              "#9c179e"
             ],
             [
              0.4444444444444444,
              "#bd3786"
             ],
             [
              0.5555555555555556,
              "#d8576b"
             ],
             [
              0.6666666666666666,
              "#ed7953"
             ],
             [
              0.7777777777777778,
              "#fb9f3a"
             ],
             [
              0.8888888888888888,
              "#fdca26"
             ],
             [
              1,
              "#f0f921"
             ]
            ],
            "type": "surface"
           }
          ],
          "table": [
           {
            "cells": {
             "fill": {
              "color": "#EBF0F8"
             },
             "line": {
              "color": "white"
             }
            },
            "header": {
             "fill": {
              "color": "#C8D4E3"
             },
             "line": {
              "color": "white"
             }
            },
            "type": "table"
           }
          ]
         },
         "layout": {
          "annotationdefaults": {
           "arrowcolor": "#2a3f5f",
           "arrowhead": 0,
           "arrowwidth": 1
          },
          "autotypenumbers": "strict",
          "coloraxis": {
           "colorbar": {
            "outlinewidth": 0,
            "ticks": ""
           }
          },
          "colorscale": {
           "diverging": [
            [
             0,
             "#8e0152"
            ],
            [
             0.1,
             "#c51b7d"
            ],
            [
             0.2,
             "#de77ae"
            ],
            [
             0.3,
             "#f1b6da"
            ],
            [
             0.4,
             "#fde0ef"
            ],
            [
             0.5,
             "#f7f7f7"
            ],
            [
             0.6,
             "#e6f5d0"
            ],
            [
             0.7,
             "#b8e186"
            ],
            [
             0.8,
             "#7fbc41"
            ],
            [
             0.9,
             "#4d9221"
            ],
            [
             1,
             "#276419"
            ]
           ],
           "sequential": [
            [
             0,
             "#0d0887"
            ],
            [
             0.1111111111111111,
             "#46039f"
            ],
            [
             0.2222222222222222,
             "#7201a8"
            ],
            [
             0.3333333333333333,
             "#9c179e"
            ],
            [
             0.4444444444444444,
             "#bd3786"
            ],
            [
             0.5555555555555556,
             "#d8576b"
            ],
            [
             0.6666666666666666,
             "#ed7953"
            ],
            [
             0.7777777777777778,
             "#fb9f3a"
            ],
            [
             0.8888888888888888,
             "#fdca26"
            ],
            [
             1,
             "#f0f921"
            ]
           ],
           "sequentialminus": [
            [
             0,
             "#0d0887"
            ],
            [
             0.1111111111111111,
             "#46039f"
            ],
            [
             0.2222222222222222,
             "#7201a8"
            ],
            [
             0.3333333333333333,
             "#9c179e"
            ],
            [
             0.4444444444444444,
             "#bd3786"
            ],
            [
             0.5555555555555556,
             "#d8576b"
            ],
            [
             0.6666666666666666,
             "#ed7953"
            ],
            [
             0.7777777777777778,
             "#fb9f3a"
            ],
            [
             0.8888888888888888,
             "#fdca26"
            ],
            [
             1,
             "#f0f921"
            ]
           ]
          },
          "colorway": [
           "#636efa",
           "#EF553B",
           "#00cc96",
           "#ab63fa",
           "#FFA15A",
           "#19d3f3",
           "#FF6692",
           "#B6E880",
           "#FF97FF",
           "#FECB52"
          ],
          "font": {
           "color": "#2a3f5f"
          },
          "geo": {
           "bgcolor": "white",
           "lakecolor": "white",
           "landcolor": "#E5ECF6",
           "showlakes": true,
           "showland": true,
           "subunitcolor": "white"
          },
          "hoverlabel": {
           "align": "left"
          },
          "hovermode": "closest",
          "mapbox": {
           "style": "light"
          },
          "paper_bgcolor": "white",
          "plot_bgcolor": "#E5ECF6",
          "polar": {
           "angularaxis": {
            "gridcolor": "white",
            "linecolor": "white",
            "ticks": ""
           },
           "bgcolor": "#E5ECF6",
           "radialaxis": {
            "gridcolor": "white",
            "linecolor": "white",
            "ticks": ""
           }
          },
          "scene": {
           "xaxis": {
            "backgroundcolor": "#E5ECF6",
            "gridcolor": "white",
            "gridwidth": 2,
            "linecolor": "white",
            "showbackground": true,
            "ticks": "",
            "zerolinecolor": "white"
           },
           "yaxis": {
            "backgroundcolor": "#E5ECF6",
            "gridcolor": "white",
            "gridwidth": 2,
            "linecolor": "white",
            "showbackground": true,
            "ticks": "",
            "zerolinecolor": "white"
           },
           "zaxis": {
            "backgroundcolor": "#E5ECF6",
            "gridcolor": "white",
            "gridwidth": 2,
            "linecolor": "white",
            "showbackground": true,
            "ticks": "",
            "zerolinecolor": "white"
           }
          },
          "shapedefaults": {
           "line": {
            "color": "#2a3f5f"
           }
          },
          "ternary": {
           "aaxis": {
            "gridcolor": "white",
            "linecolor": "white",
            "ticks": ""
           },
           "baxis": {
            "gridcolor": "white",
            "linecolor": "white",
            "ticks": ""
           },
           "bgcolor": "#E5ECF6",
           "caxis": {
            "gridcolor": "white",
            "linecolor": "white",
            "ticks": ""
           }
          },
          "title": {
           "x": 0.05
          },
          "xaxis": {
           "automargin": true,
           "gridcolor": "white",
           "linecolor": "white",
           "ticks": "",
           "title": {
            "standoff": 15
           },
           "zerolinecolor": "white",
           "zerolinewidth": 2
          },
          "yaxis": {
           "automargin": true,
           "gridcolor": "white",
           "linecolor": "white",
           "ticks": "",
           "title": {
            "standoff": 15
           },
           "zerolinecolor": "white",
           "zerolinewidth": 2
          }
         }
        },
        "xaxis": {
         "autorange": true,
         "range": [
          -25000,
          24500
         ],
         "type": "linear"
        },
        "yaxis": {
         "autorange": true,
         "range": [
          -716.4984951344651,
          134.66139839630011
         ],
         "type": "linear"
        }
       }
      },
      "image/png": "[encoded data removed]",
      "text/html": [
       "<div>                            <div id=\"6a75c8ce-9718-4598-8b65-df6893983dda\" class=\"plotly-graph-div\" style=\"height:525px; width:100%;\"></div>            <script type=\"text/javascript\">                require([\"plotly\"], function(Plotly) {                    window.PLOTLYENV=window.PLOTLYENV || {};                                    if (document.getElementById(\"6a75c8ce-9718-4598-8b65-df6893983dda\")) {                    Plotly.newPlot(                        \"6a75c8ce-9718-4598-8b65-df6893983dda\",                        [{\"type\": \"scatter\", \"x\": [0.0, 500.0, 1000.0, 1500.0, 2000.0, 2500.0, 3000.0, 3500.0, 4000.0, 4500.0, 5000.0, 5500.0, 6000.0, 6500.0, 7000.0, 7500.0, 8000.0, 8500.0, 9000.0, 9500.0, 10000.0, 10500.0, 11000.0, 11500.0, 12000.0, 12500.0, 13000.0, 13500.0, 14000.0, 14500.0, 15000.0, 15500.0, 16000.0, 16500.0, 17000.0, 17500.0, 18000.0, 18500.0, 19000.0, 19500.0, 20000.0, 20500.0, 21000.0, 21500.0, 22000.0, 22500.0, 23000.0, 23500.0, 24000.0, 24500.0, -25000.0, -24500.0, -24000.0, -23500.0, -23000.0, -22500.0, -22000.0, -21500.0, -21000.0, -20500.0, -20000.0, -19500.0, -19000.0, -18500.0, -18000.0, -17500.0, -17000.0, -16500.0, -16000.0, -15500.0, -15000.0, -14500.0, -14000.0, -13500.0, -13000.0, -12500.0, -12000.0, -11500.0, -11000.0, -10500.0, -10000.0, -9500.0, -9000.0, -8500.0, -8000.0, -7500.0, -7000.0, -6500.0, -6000.0, -5500.0, -5000.0, -4500.0, -4000.0, -3500.0, -3000.0, -2500.0, -2000.0, -1500.0, -1000.0, -500.0], \"y\": [-646.361205289041, -625.3131411226274, -624.6555931828372, -599.2747801060402, -600.5443410235947, -614.062383149734, -591.0823483900074, -604.2303255226126, -611.3426991545508, -609.2274625929433, -626.0197872055126, -638.9829641935391, -619.5478624156113, -623.8798844530392, -623.683864772138, -617.3800008517287, -636.6675249259695, -630.1200876273854, -619.759863945673, -626.7862725921786, -609.2099501827845, -621.8841141354042, -633.8436533318702, -614.3831324723085, -620.4924169566932, -615.0531027364799, -604.3485187535537, -600.6347792071234, -598.5240131158646, -640.780093747813, -618.8811332780399, -641.6457747684369, -598.5912447507167, -600.6381228028852, -604.3644670546668, -615.0842785357517, -622.6079598794734, -614.6350378035173, -634.5665879271234, -622.2050686436087, -613.3700263207992, -626.6845729480715, -620.0378173169986, -630.2092588231156, -634.5855799156994, -617.7041059231261, -624.0123607040616, -623.6645828104408, -620.4479744158458, -639.1078947502674, -626.3725470731582, -609.258975775597, -612.4166935480132, -604.2024364674375, -591.117614402794, -613.9669923168848, -600.3107196450079, -599.3625915968253, -624.9218577258447, -625.3182089072238, -638.8320114977113, -621.6936438159895, -631.9642223677265, -651.5226569461574, -636.9118343297217, -673.9405004579269, -624.9466417302384, -619.1788989304706, -624.022498756104, -629.837245736901, -613.5983309178663, -622.1379673841286, -633.1128361660991, -613.2968372437728, -613.2926849245755, -606.2502346829434, -621.8694514429326, -622.3460317307853, -608.1204523528978, -592.8255230942483, 92.10340371976184, -592.838264815225, -607.979495165083, -623.0941971872257, -621.2631433243237, -606.135944828216, -613.2919413284676, -613.400719055093, -632.8526997529029, -621.7848225690434, -613.8027581597097, -630.1018755243874, -623.6718209372407, -619.3697850947729, -626.0284468299419, -668.8709646381647, -636.4724296668315, -651.9228432739585, -630.6756040807529, -621.7393139561658]}],                        {\"template\": {\"data\": {\"bar\": [{\"error_x\": {\"color\": \"#2a3f5f\"}, \"error_y\": {\"color\": \"#2a3f5f\"}, \"marker\": {\"line\": {\"color\": \"#E5ECF6\", \"width\": 0.5}}, \"type\": \"bar\"}], \"barpolar\": [{\"marker\": {\"line\": {\"color\": \"#E5ECF6\", \"width\": 0.5}}, \"type\": \"barpolar\"}], \"carpet\": [{\"aaxis\": {\"endlinecolor\": \"#2a3f5f\", \"gridcolor\": \"white\", \"linecolor\": \"white\", \"minorgridcolor\": \"white\", \"startlinecolor\": \"#2a3f5f\"}, \"baxis\": {\"endlinecolor\": \"#2a3f5f\", \"gridcolor\": \"white\", \"linecolor\": \"white\", \"minorgridcolor\": \"white\", \"startlinecolor\": \"#2a3f5f\"}, \"type\": \"carpet\"}], \"choropleth\": [{\"colorbar\": {\"outlinewidth\": 0, \"ticks\": \"\"}, \"type\": \"choropleth\"}], \"contour\": [{\"colorbar\": {\"outlinewidth\": 0, \"ticks\": \"\"}, \"colorscale\": [[0.0, \"#0d0887\"], [0.1111111111111111, \"#46039f\"], [0.2222222222222222, \"#7201a8\"], [0.3333333333333333, \"#9c179e\"], [0.4444444444444444, \"#bd3786\"], [0.5555555555555556, \"#d8576b\"], [0.6666666666666666, \"#ed7953\"], [0.7777777777777778, \"#fb9f3a\"], [0.8888888888888888, \"#fdca26\"], [1.0, \"#f0f921\"]], \"type\": \"contour\"}], \"contourcarpet\": [{\"colorbar\": {\"outlinewidth\": 0, \"ticks\": \"\"}, \"type\": \"contourcarpet\"}], \"heatmap\": [{\"colorbar\": {\"outlinewidth\": 0, \"ticks\": \"\"}, \"colorscale\": [[0.0, \"#0d0887\"], [0.1111111111111111, \"#46039f\"], [0.2222222222222222, \"#7201a8\"], [0.3333333333333333, \"#9c179e\"], [0.4444444444444444, \"#bd3786\"], [0.5555555555555556, \"#d8576b\"], [0.6666666666666666, \"#ed7953\"], [0.7777777777777778, \"#fb9f3a\"], [0.8888888888888888, \"#fdca26\"], [1.0, \"#f0f921\"]], \"type\": \"heatmap\"}], \"heatmapgl\": [{\"colorbar\": {\"outlinewidth\": 0, \"ticks\": \"\"}, \"colorscale\": [[0.0, \"#0d0887\"], [0.1111111111111111, \"#46039f\"], [0.2222222222222222, \"#7201a8\"], [0.3333333333333333, \"#9c179e\"], [0.4444444444444444, \"#bd3786\"], [0.5555555555555556, \"#d8576b\"], [0.6666666666666666, \"#ed7953\"], [0.7777777777777778, \"#fb9f3a\"], [0.8888888888888888, \"#fdca26\"], [1.0, \"#f0f921\"]], \"type\": \"heatmapgl\"}], \"histogram\": [{\"marker\": {\"colorbar\": {\"outlinewidth\": 0, \"ticks\": \"\"}}, \"type\": \"histogram\"}], \"histogram2d\": [{\"colorbar\": {\"outlinewidth\": 0, \"ticks\": \"\"}, \"colorscale\": [[0.0, \"#0d0887\"], [0.1111111111111111, \"#46039f\"], [0.2222222222222222, \"#7201a8\"], [0.3333333333333333, \"#9c179e\"], [0.4444444444444444, \"#bd3786\"], [0.5555555555555556, \"#d8576b\"], [0.6666666666666666, \"#ed7953\"], [0.7777777777777778, \"#fb9f3a\"], [0.8888888888888888, \"#fdca26\"], [1.0, \"#f0f921\"]], \"type\": \"histogram2d\"}], \"histogram2dcontour\": [{\"colorbar\": {\"outlinewidth\": 0, \"ticks\": \"\"}, \"colorscale\": [[0.0, \"#0d0887\"], [0.1111111111111111, \"#46039f\"], [0.2222222222222222, \"#7201a8\"], [0.3333333333333333, \"#9c179e\"], [0.4444444444444444, \"#bd3786\"], [0.5555555555555556, \"#d8576b\"], [0.6666666666666666, \"#ed7953\"], [0.7777777777777778, \"#fb9f3a\"], [0.8888888888888888, \"#fdca26\"], [1.0, \"#f0f921\"]], \"type\": \"histogram2dcontour\"}], \"mesh3d\": [{\"colorbar\": {\"outlinewidth\": 0, \"ticks\": \"\"}, \"type\": \"mesh3d\"}], \"parcoords\": [{\"line\": {\"colorbar\": {\"outlinewidth\": 0, \"ticks\": \"\"}}, \"type\": \"parcoords\"}], \"pie\": [{\"automargin\": true, \"type\": \"pie\"}], \"scatter\": [{\"marker\": {\"colorbar\": {\"outlinewidth\": 0, \"ticks\": \"\"}}, \"type\": \"scatter\"}], \"scatter3d\": [{\"line\": {\"colorbar\": {\"outlinewidth\": 0, \"ticks\": \"\"}}, \"marker\": {\"colorbar\": {\"outlinewidth\": 0, \"ticks\": \"\"}}, \"type\": \"scatter3d\"}], \"scattercarpet\": [{\"marker\": {\"colorbar\": {\"outlinewidth\": 0, \"ticks\": \"\"}}, \"type\": \"scattercarpet\"}], \"scattergeo\": [{\"marker\": {\"colorbar\": {\"outlinewidth\": 0, \"ticks\": \"\"}}, \"type\": \"scattergeo\"}], \"scattergl\": [{\"marker\": {\"colorbar\": {\"outlinewidth\": 0, \"ticks\": \"\"}}, \"type\": \"scattergl\"}], \"scattermapbox\": [{\"marker\": {\"colorbar\": {\"outlinewidth\": 0, \"ticks\": \"\"}}, \"type\": \"scattermapbox\"}], \"scatterpolar\": [{\"marker\": {\"colorbar\": {\"outlinewidth\": 0, \"ticks\": \"\"}}, \"type\": \"scatterpolar\"}], \"scatterpolargl\": [{\"marker\": {\"colorbar\": {\"outlinewidth\": 0, \"ticks\": \"\"}}, \"type\": \"scatterpolargl\"}], \"scatterternary\": [{\"marker\": {\"colorbar\": {\"outlinewidth\": 0, \"ticks\": \"\"}}, \"type\": \"scatterternary\"}], \"surface\": [{\"colorbar\": {\"outlinewidth\": 0, \"ticks\": \"\"}, \"colorscale\": [[0.0, \"#0d0887\"], [0.1111111111111111, \"#46039f\"], [0.2222222222222222, \"#7201a8\"], [0.3333333333333333, \"#9c179e\"], [0.4444444444444444, \"#bd3786\"], [0.5555555555555556, \"#d8576b\"], [0.6666666666666666, \"#ed7953\"], [0.7777777777777778, \"#fb9f3a\"], [0.8888888888888888, \"#fdca26\"], [1.0, \"#f0f921\"]], \"type\": \"surface\"}], \"table\": [{\"cells\": {\"fill\": {\"color\": \"#EBF0F8\"}, \"line\": {\"color\": \"white\"}}, \"header\": {\"fill\": {\"color\": \"#C8D4E3\"}, \"line\": {\"color\": \"white\"}}, \"type\": \"table\"}]}, \"layout\": {\"annotationdefaults\": {\"arrowcolor\": \"#2a3f5f\", \"arrowhead\": 0, \"arrowwidth\": 1}, \"autotypenumbers\": \"strict\", \"coloraxis\": {\"colorbar\": {\"outlinewidth\": 0, \"ticks\": \"\"}}, \"colorscale\": {\"diverging\": [[0, \"#8e0152\"], [0.1, \"#c51b7d\"], [0.2, \"#de77ae\"], [0.3, \"#f1b6da\"], [0.4, \"#fde0ef\"], [0.5, \"#f7f7f7\"], [0.6, \"#e6f5d0\"], [0.7, \"#b8e186\"], [0.8, \"#7fbc41\"], [0.9, \"#4d9221\"], [1, \"#276419\"]], \"sequential\": [[0.0, \"#0d0887\"], [0.1111111111111111, \"#46039f\"], [0.2222222222222222, \"#7201a8\"], [0.3333333333333333, \"#9c179e\"], [0.4444444444444444, \"#bd3786\"], [0.5555555555555556, \"#d8576b\"], [0.6666666666666666, \"#ed7953\"], [0.7777777777777778, \"#fb9f3a\"], [0.8888888888888888, \"#fdca26\"], [1.0, \"#f0f921\"]], \"sequentialminus\": [[0.0, \"#0d0887\"], [0.1111111111111111, \"#46039f\"], [0.2222222222222222, \"#7201a8\"], [0.3333333333333333, \"#9c179e\"], [0.4444444444444444, \"#bd3786\"], [0.5555555555555556, \"#d8576b\"], [0.6666666666666666, \"#ed7953\"], [0.7777777777777778, \"#fb9f3a\"], [0.8888888888888888, \"#fdca26\"], [1.0, \"#f0f921\"]]}, \"colorway\": [\"#636efa\", \"#EF553B\", \"#00cc96\", \"#ab63fa\", \"#FFA15A\", \"#19d3f3\", \"#FF6692\", \"#B6E880\", \"#FF97FF\", \"#FECB52\"], \"font\": {\"color\": \"#2a3f5f\"}, \"geo\": {\"bgcolor\": \"white\", \"lakecolor\": \"white\", \"landcolor\": \"#E5ECF6\", \"showlakes\": true, \"showland\": true, \"subunitcolor\": \"white\"}, \"hoverlabel\": {\"align\": \"left\"}, \"hovermode\": \"closest\", \"mapbox\": {\"style\": \"light\"}, \"paper_bgcolor\": \"white\", \"plot_bgcolor\": \"#E5ECF6\", \"polar\": {\"angularaxis\": {\"gridcolor\": \"white\", \"linecolor\": \"white\", \"ticks\": \"\"}, \"bgcolor\": \"#E5ECF6\", \"radialaxis\": {\"gridcolor\": \"white\", \"linecolor\": \"white\", \"ticks\": \"\"}}, \"scene\": {\"xaxis\": {\"backgroundcolor\": \"#E5ECF6\", \"gridcolor\": \"white\", \"gridwidth\": 2, \"linecolor\": \"white\", \"showbackground\": true, \"ticks\": \"\", \"zerolinecolor\": \"white\"}, \"yaxis\": {\"backgroundcolor\": \"#E5ECF6\", \"gridcolor\": \"white\", \"gridwidth\": 2, \"linecolor\": \"white\", \"showbackground\": true, \"ticks\": \"\", \"zerolinecolor\": \"white\"}, \"zaxis\": {\"backgroundcolor\": \"#E5ECF6\", \"gridcolor\": \"white\", \"gridwidth\": 2, \"linecolor\": \"white\", \"showbackground\": true, \"ticks\": \"\", \"zerolinecolor\": \"white\"}}, \"shapedefaults\": {\"line\": {\"color\": \"#2a3f5f\"}}, \"ternary\": {\"aaxis\": {\"gridcolor\": \"white\", \"linecolor\": \"white\", \"ticks\": \"\"}, \"baxis\": {\"gridcolor\": \"white\", \"linecolor\": \"white\", \"ticks\": \"\"}, \"bgcolor\": \"#E5ECF6\", \"caxis\": {\"gridcolor\": \"white\", \"linecolor\": \"white\", \"ticks\": \"\"}}, \"title\": {\"x\": 0.05}, \"xaxis\": {\"automargin\": true, \"gridcolor\": \"white\", \"linecolor\": \"white\", \"ticks\": \"\", \"title\": {\"standoff\": 15}, \"zerolinecolor\": \"white\", \"zerolinewidth\": 2}, \"yaxis\": {\"automargin\": true, \"gridcolor\": \"white\", \"linecolor\": \"white\", \"ticks\": \"\", \"title\": {\"standoff\": 15}, \"zerolinecolor\": \"white\", \"zerolinewidth\": 2}}}},                        {\"responsive\": true}                    ).then(function(){\n",
       "                            \n",
       "var gd = document.getElementById('6a75c8ce-9718-4598-8b65-df6893983dda');\n",
       "var x = new MutationObserver(function (mutations, observer) {{\n",
       "        var display = window.getComputedStyle(gd).display;\n",
       "        if (!display || display === 'none') {{\n",
       "            console.log([gd, 'removed!']);\n",
       "            Plotly.purge(gd);\n",
       "            observer.disconnect();\n",
       "        }}\n",
       "}});\n",
       "\n",
       "// Listen for the removal of the full notebook cells\n",
       "var notebookContainer = gd.closest('#notebook-container');\n",
       "if (notebookContainer) {{\n",
       "    x.observe(notebookContainer, {childList: true});\n",
       "}}\n",
       "\n",
       "// Listen for the clearing of the current output cell\n",
       "var outputEl = gd.closest('.output');\n",
       "if (outputEl) {{\n",
       "    x.observe(outputEl, {childList: true});\n",
       "}}\n",
       "\n",
       "                        })                };                });            </script>        </div>"
      ]
     },
     "metadata": {},
     "output_type": "display_data"
    },
    {
     "data": {
      "application/vnd.plotly.v1+json": {
       "config": {
        "plotlyServerURL": "https://plot.ly"
       },
       "data": [
        {
         "type": "scatter",
         "x": [
          0,
          495.049504950495,
          990.09900990099,
          1485.148514851485,
          1980.19801980198,
          2475.2475247524753,
          2970.29702970297,
          3465.346534653465,
          3960.39603960396,
          4455.445544554455,
          4950.495049504951,
          5445.544554455445,
          5940.59405940594,
          6435.6435643564355,
          6930.69306930693,
          7425.742574257425,
          7920.79207920792,
          8415.841584158416,
          8910.89108910891,
          9405.940594059406,
          9900.990099009901,
          10396.039603960395,
          10891.08910891089,
          11386.138613861385,
          11881.18811881188,
          12376.237623762376,
          12871.287128712871,
          13366.336633663366,
          13861.38613861386,
          14356.435643564355,
          14851.48514851485,
          15346.534653465345,
          15841.58415841584,
          16336.633663366336,
          16831.68316831683,
          17326.732673267325,
          17821.78217821782,
          18316.831683168315,
          18811.881188118812,
          19306.930693069306,
          19801.980198019803,
          20297.029702970296,
          20792.07920792079,
          21287.128712871287,
          21782.17821782178,
          22277.227722772277,
          22772.27722772277,
          23267.326732673268,
          23762.37623762376,
          24257.425742574254,
          24752.47524752475,
          -24752.47524752475,
          -24257.425742574254,
          -23762.37623762376,
          -23267.326732673268,
          -22772.27722772277,
          -22277.227722772277,
          -21782.17821782178,
          -21287.128712871287,
          -20792.07920792079,
          -20297.029702970296,
          -19801.980198019803,
          -19306.930693069306,
          -18811.881188118812,
          -18316.831683168315,
          -17821.78217821782,
          -17326.732673267325,
          -16831.68316831683,
          -16336.633663366336,
          -15841.58415841584,
          -15346.534653465345,
          -14851.48514851485,
          -14356.435643564355,
          -13861.38613861386,
          -13366.336633663366,
          -12871.287128712871,
          -12376.237623762376,
          -11881.18811881188,
          -11386.138613861385,
          -10891.08910891089,
          -10396.039603960395,
          -9900.990099009901,
          -9405.940594059406,
          -8910.89108910891,
          -8415.841584158416,
          -7920.79207920792,
          -7425.742574257425,
          -6930.69306930693,
          -6435.6435643564355,
          -5940.59405940594,
          -5445.544554455445,
          -4950.495049504951,
          -4455.445544554455,
          -3960.39603960396,
          -3465.346534653465,
          -2970.29702970297,
          -2475.2475247524753,
          -1980.19801980198,
          -1485.148514851485,
          -990.09900990099,
          -495.049504950495
         ],
         "y": [
          -2.842170943040421e-13,
          -0.8290100919553501,
          -1.6064182181339248,
          -2.336088599057398,
          -3.021384199090726,
          -3.665247190359289,
          -4.270263708487056,
          -4.838716429888353,
          -5.3726276071662,
          -5.873794555245153,
          -6.343819110353389,
          -6.784132236411466,
          -7.196014693251138,
          -7.58061448491138,
          -7.9389616563797,
          -8.271980891968221,
          -8.580502278986785,
          -8.865270530399709,
          -9.126952904841447,
          -9.3661460185616,
          -9.58338170864265,
          -9.77913207854045,
          -9.953813833975017,
          -10.107791998331997,
          -10.24138308120466,
          -10.354857760805675,
          -10.44844313001427,
          -10.522324546708258,
          -10.57664712097461,
          -10.611516864969959,
          -10.627001524908692,
          -10.623131109228535,
          -10.599898121632897,
          -10.557257502921722,
          -10.495126280649709,
          -10.413382920755174,
          -10.311866370411666,
          -10.190374775892224,
          -10.048663853576178,
          -9.886444885652969,
          -9.703382304903549,
          -9.499090824371399,
          -9.273132058033202,
          -9.025010566846753,
          -8.754169250672813,
          -8.45998398980751,
          -8.141757419461689,
          -7.798711695497067,
          -7.429980078944297,
          -7.03459712835161,
          -6.611487241020097,
          -6.15945122343343,
          -5.677150494082231,
          -5.163088422893517,
          -4.6155881837397725,
          -4.032766329646186,
          -3.4125010810934473,
          -2.7523940259694344,
          -2.049723538024715,
          -1.3013876880252762,
          -0.5038336889930418,
          0.3470301050484334,
          1.255945073821241,
          2.2284435856879363,
          3.271031182823128,
          4.391424787308873,
          5.598868939558322,
          6.904562884317487,
          8.322248643481643,
          9.869038849839631,
          11.566612113744345,
          13.442990949720269,
          15.535280076686266,
          17.89406380358048,
          20.59083716475307,
          23.73139041975602,
          27.481982283270455,
          32.12651033810971,
          38.21284272337294,
          47.034657259174026,
          63.244875417730995,
          90.96882757085054,
          55.13815346444392,
          43.02640476664365,
          35.54995949519456,
          30.135172003140163,
          25.89404919214022,
          22.413079250105106,
          19.465786524934106,
          16.91458144258537,
          14.669587437656446,
          12.668852646987851,
          10.867863696692346,
          9.233562391456786,
          7.7407274275979185,
          6.3696810837146,
          5.104778194680164,
          3.9333775528796613,
          2.8451219605930973,
          1.8314220696622443,
          0.8850784927529951
         ]
        }
       ],
       "layout": {
        "autosize": true,
        "template": {
         "data": {
          "bar": [
           {
            "error_x": {
             "color": "#2a3f5f"
            },
            "error_y": {
             "color": "#2a3f5f"
            },
            "marker": {
             "line": {
              "color": "#E5ECF6",
              "width": 0.5
             }
            },
            "type": "bar"
           }
          ],
          "barpolar": [
           {
            "marker": {
             "line": {
              "color": "#E5ECF6",
              "width": 0.5
             }
            },
            "type": "barpolar"
           }
          ],
          "carpet": [
           {
            "aaxis": {
             "endlinecolor": "#2a3f5f",
             "gridcolor": "white",
             "linecolor": "white",
             "minorgridcolor": "white",
             "startlinecolor": "#2a3f5f"
            },
            "baxis": {
             "endlinecolor": "#2a3f5f",
             "gridcolor": "white",
             "linecolor": "white",
             "minorgridcolor": "white",
             "startlinecolor": "#2a3f5f"
            },
            "type": "carpet"
           }
          ],
          "choropleth": [
           {
            "colorbar": {
             "outlinewidth": 0,
             "ticks": ""
            },
            "type": "choropleth"
           }
          ],
          "contour": [
           {
            "colorbar": {
             "outlinewidth": 0,
             "ticks": ""
            },
            "colorscale": [
             [
              0,
              "#0d0887"
             ],
             [
              0.1111111111111111,
              "#46039f"
             ],
             [
              0.2222222222222222,
              "#7201a8"
             ],
             [
              0.3333333333333333,
              "#9c179e"
             ],
             [
              0.4444444444444444,
              "#bd3786"
             ],
             [
              0.5555555555555556,
              "#d8576b"
             ],
             [
              0.6666666666666666,
              "#ed7953"
             ],
             [
              0.7777777777777778,
              "#fb9f3a"
             ],
             [
              0.8888888888888888,
              "#fdca26"
             ],
             [
              1,
              "#f0f921"
             ]
            ],
            "type": "contour"
           }
          ],
          "contourcarpet": [
           {
            "colorbar": {
             "outlinewidth": 0,
             "ticks": ""
            },
            "type": "contourcarpet"
           }
          ],
          "heatmap": [
           {
            "colorbar": {
             "outlinewidth": 0,
             "ticks": ""
            },
            "colorscale": [
             [
              0,
              "#0d0887"
             ],
             [
              0.1111111111111111,
              "#46039f"
             ],
             [
              0.2222222222222222,
              "#7201a8"
             ],
             [
              0.3333333333333333,
              "#9c179e"
             ],
             [
              0.4444444444444444,
              "#bd3786"
             ],
             [
              0.5555555555555556,
              "#d8576b"
             ],
             [
              0.6666666666666666,
              "#ed7953"
             ],
             [
              0.7777777777777778,
              "#fb9f3a"
             ],
             [
              0.8888888888888888,
              "#fdca26"
             ],
             [
              1,
              "#f0f921"
             ]
            ],
            "type": "heatmap"
           }
          ],
          "heatmapgl": [
           {
            "colorbar": {
             "outlinewidth": 0,
             "ticks": ""
            },
            "colorscale": [
             [
              0,
              "#0d0887"
             ],
             [
              0.1111111111111111,
              "#46039f"
             ],
             [
              0.2222222222222222,
              "#7201a8"
             ],
             [
              0.3333333333333333,
              "#9c179e"
             ],
             [
              0.4444444444444444,
              "#bd3786"
             ],
             [
              0.5555555555555556,
              "#d8576b"
             ],
             [
              0.6666666666666666,
              "#ed7953"
             ],
             [
              0.7777777777777778,
              "#fb9f3a"
             ],
             [
              0.8888888888888888,
              "#fdca26"
             ],
             [
              1,
              "#f0f921"
             ]
            ],
            "type": "heatmapgl"
           }
          ],
          "histogram": [
           {
            "marker": {
             "colorbar": {
              "outlinewidth": 0,
              "ticks": ""
             }
            },
            "type": "histogram"
           }
          ],
          "histogram2d": [
           {
            "colorbar": {
             "outlinewidth": 0,
             "ticks": ""
            },
            "colorscale": [
             [
              0,
              "#0d0887"
             ],
             [
              0.1111111111111111,
              "#46039f"
             ],
             [
              0.2222222222222222,
              "#7201a8"
             ],
             [
              0.3333333333333333,
              "#9c179e"
             ],
             [
              0.4444444444444444,
              "#bd3786"
             ],
             [
              0.5555555555555556,
              "#d8576b"
             ],
             [
              0.6666666666666666,
              "#ed7953"
             ],
             [
              0.7777777777777778,
              "#fb9f3a"
             ],
             [
              0.8888888888888888,
              "#fdca26"
             ],
             [
              1,
              "#f0f921"
             ]
            ],
            "type": "histogram2d"
           }
          ],
          "histogram2dcontour": [
           {
            "colorbar": {
             "outlinewidth": 0,
             "ticks": ""
            },
            "colorscale": [
             [
              0,
              "#0d0887"
             ],
             [
              0.1111111111111111,
              "#46039f"
             ],
             [
              0.2222222222222222,
              "#7201a8"
             ],
             [
              0.3333333333333333,
              "#9c179e"
             ],
             [
              0.4444444444444444,
              "#bd3786"
             ],
             [
              0.5555555555555556,
              "#d8576b"
             ],
             [
              0.6666666666666666,
              "#ed7953"
             ],
             [
              0.7777777777777778,
              "#fb9f3a"
             ],
             [
              0.8888888888888888,
              "#fdca26"
             ],
             [
              1,
              "#f0f921"
             ]
            ],
            "type": "histogram2dcontour"
           }
          ],
          "mesh3d": [
           {
            "colorbar": {
             "outlinewidth": 0,
             "ticks": ""
            },
            "type": "mesh3d"
           }
          ],
          "parcoords": [
           {
            "line": {
             "colorbar": {
              "outlinewidth": 0,
              "ticks": ""
             }
            },
            "type": "parcoords"
           }
          ],
          "pie": [
           {
            "automargin": true,
            "type": "pie"
           }
          ],
          "scatter": [
           {
            "marker": {
             "colorbar": {
              "outlinewidth": 0,
              "ticks": ""
             }
            },
            "type": "scatter"
           }
          ],
          "scatter3d": [
           {
            "line": {
             "colorbar": {
              "outlinewidth": 0,
              "ticks": ""
             }
            },
            "marker": {
             "colorbar": {
              "outlinewidth": 0,
              "ticks": ""
             }
            },
            "type": "scatter3d"
           }
          ],
          "scattercarpet": [
           {
            "marker": {
             "colorbar": {
              "outlinewidth": 0,
              "ticks": ""
             }
            },
            "type": "scattercarpet"
           }
          ],
          "scattergeo": [
           {
            "marker": {
             "colorbar": {
              "outlinewidth": 0,
              "ticks": ""
             }
            },
            "type": "scattergeo"
           }
          ],
          "scattergl": [
           {
            "marker": {
             "colorbar": {
              "outlinewidth": 0,
              "ticks": ""
             }
            },
            "type": "scattergl"
           }
          ],
          "scattermapbox": [
           {
            "marker": {
             "colorbar": {
              "outlinewidth": 0,
              "ticks": ""
             }
            },
            "type": "scattermapbox"
           }
          ],
          "scatterpolar": [
           {
            "marker": {
             "colorbar": {
              "outlinewidth": 0,
              "ticks": ""
             }
            },
            "type": "scatterpolar"
           }
          ],
          "scatterpolargl": [
           {
            "marker": {
             "colorbar": {
              "outlinewidth": 0,
              "ticks": ""
             }
            },
            "type": "scatterpolargl"
           }
          ],
          "scatterternary": [
           {
            "marker": {
             "colorbar": {
              "outlinewidth": 0,
              "ticks": ""
             }
            },
            "type": "scatterternary"
           }
          ],
          "surface": [
           {
            "colorbar": {
             "outlinewidth": 0,
             "ticks": ""
            },
            "colorscale": [
             [
              0,
              "#0d0887"
             ],
             [
              0.1111111111111111,
              "#46039f"
             ],
             [
              0.2222222222222222,
              "#7201a8"
             ],
             [
              0.3333333333333333,
              "#9c179e"
             ],
             [
              0.4444444444444444,
              "#bd3786"
             ],
             [
              0.5555555555555556,
              "#d8576b"
             ],
             [
              0.6666666666666666,
              "#ed7953"
             ],
             [
              0.7777777777777778,
              "#fb9f3a"
             ],
             [
              0.8888888888888888,
              "#fdca26"
             ],
             [
              1,
              "#f0f921"
             ]
            ],
            "type": "surface"
           }
          ],
          "table": [
           {
            "cells": {
             "fill": {
              "color": "#EBF0F8"
             },
             "line": {
              "color": "white"
             }
            },
            "header": {
             "fill": {
              "color": "#C8D4E3"
             },
             "line": {
              "color": "white"
             }
            },
            "type": "table"
           }
          ]
         },
         "layout": {
          "annotationdefaults": {
           "arrowcolor": "#2a3f5f",
           "arrowhead": 0,
           "arrowwidth": 1
          },
          "autotypenumbers": "strict",
          "coloraxis": {
           "colorbar": {
            "outlinewidth": 0,
            "ticks": ""
           }
          },
          "colorscale": {
           "diverging": [
            [
             0,
             "#8e0152"
            ],
            [
             0.1,
             "#c51b7d"
            ],
            [
             0.2,
             "#de77ae"
            ],
            [
             0.3,
             "#f1b6da"
            ],
            [
             0.4,
             "#fde0ef"
            ],
            [
             0.5,
             "#f7f7f7"
            ],
            [
             0.6,
             "#e6f5d0"
            ],
            [
             0.7,
             "#b8e186"
            ],
            [
             0.8,
             "#7fbc41"
            ],
            [
             0.9,
             "#4d9221"
            ],
            [
             1,
             "#276419"
            ]
           ],
           "sequential": [
            [
             0,
             "#0d0887"
            ],
            [
             0.1111111111111111,
             "#46039f"
            ],
            [
             0.2222222222222222,
             "#7201a8"
            ],
            [
             0.3333333333333333,
             "#9c179e"
            ],
            [
             0.4444444444444444,
             "#bd3786"
            ],
            [
             0.5555555555555556,
             "#d8576b"
            ],
            [
             0.6666666666666666,
             "#ed7953"
            ],
            [
             0.7777777777777778,
             "#fb9f3a"
            ],
            [
             0.8888888888888888,
             "#fdca26"
            ],
            [
             1,
             "#f0f921"
            ]
           ],
           "sequentialminus": [
            [
             0,
             "#0d0887"
            ],
            [
             0.1111111111111111,
             "#46039f"
            ],
            [
             0.2222222222222222,
             "#7201a8"
            ],
            [
             0.3333333333333333,
             "#9c179e"
            ],
            [
             0.4444444444444444,
             "#bd3786"
            ],
            [
             0.5555555555555556,
             "#d8576b"
            ],
            [
             0.6666666666666666,
             "#ed7953"
            ],
            [
             0.7777777777777778,
             "#fb9f3a"
            ],
            [
             0.8888888888888888,
             "#fdca26"
            ],
            [
             1,
             "#f0f921"
            ]
           ]
          },
          "colorway": [
           "#636efa",
           "#EF553B",
           "#00cc96",
           "#ab63fa",
           "#FFA15A",
           "#19d3f3",
           "#FF6692",
           "#B6E880",
           "#FF97FF",
           "#FECB52"
          ],
          "font": {
           "color": "#2a3f5f"
          },
          "geo": {
           "bgcolor": "white",
           "lakecolor": "white",
           "landcolor": "#E5ECF6",
           "showlakes": true,
           "showland": true,
           "subunitcolor": "white"
          },
          "hoverlabel": {
           "align": "left"
          },
          "hovermode": "closest",
          "mapbox": {
           "style": "light"
          },
          "paper_bgcolor": "white",
          "plot_bgcolor": "#E5ECF6",
          "polar": {
           "angularaxis": {
            "gridcolor": "white",
            "linecolor": "white",
            "ticks": ""
           },
           "bgcolor": "#E5ECF6",
           "radialaxis": {
            "gridcolor": "white",
            "linecolor": "white",
            "ticks": ""
           }
          },
          "scene": {
           "xaxis": {
            "backgroundcolor": "#E5ECF6",
            "gridcolor": "white",
            "gridwidth": 2,
            "linecolor": "white",
            "showbackground": true,
            "ticks": "",
            "zerolinecolor": "white"
           },
           "yaxis": {
            "backgroundcolor": "#E5ECF6",
            "gridcolor": "white",
            "gridwidth": 2,
            "linecolor": "white",
            "showbackground": true,
            "ticks": "",
            "zerolinecolor": "white"
           },
           "zaxis": {
            "backgroundcolor": "#E5ECF6",
            "gridcolor": "white",
            "gridwidth": 2,
            "linecolor": "white",
            "showbackground": true,
            "ticks": "",
            "zerolinecolor": "white"
           }
          },
          "shapedefaults": {
           "line": {
            "color": "#2a3f5f"
           }
          },
          "ternary": {
           "aaxis": {
            "gridcolor": "white",
            "linecolor": "white",
            "ticks": ""
           },
           "baxis": {
            "gridcolor": "white",
            "linecolor": "white",
            "ticks": ""
           },
           "bgcolor": "#E5ECF6",
           "caxis": {
            "gridcolor": "white",
            "linecolor": "white",
            "ticks": ""
           }
          },
          "title": {
           "x": 0.05
          },
          "xaxis": {
           "automargin": true,
           "gridcolor": "white",
           "linecolor": "white",
           "ticks": "",
           "title": {
            "standoff": 15
           },
           "zerolinecolor": "white",
           "zerolinewidth": 2
          },
          "yaxis": {
           "automargin": true,
           "gridcolor": "white",
           "linecolor": "white",
           "ticks": "",
           "title": {
            "standoff": 15
           },
           "zerolinecolor": "white",
           "zerolinewidth": 2
          }
         }
        },
        "xaxis": {
         "autorange": true,
         "range": [
          -24752.47524752475,
          24752.47524752475
         ],
         "type": "linear"
        },
        "yaxis": {
         "autorange": true,
         "range": [
          -16.27121425245087,
          96.61304029839272
         ],
         "type": "linear"
        }
       }
      },
      "image/png": "[encoded data removed]",
      "text/html": [
       "<div>                            <div id=\"6b84c4fd-f82e-42db-822b-8c717f3ce340\" class=\"plotly-graph-div\" style=\"height:525px; width:100%;\"></div>            <script type=\"text/javascript\">                require([\"plotly\"], function(Plotly) {                    window.PLOTLYENV=window.PLOTLYENV || {};                                    if (document.getElementById(\"6b84c4fd-f82e-42db-822b-8c717f3ce340\")) {                    Plotly.newPlot(                        \"6b84c4fd-f82e-42db-822b-8c717f3ce340\",                        [{\"type\": \"scatter\", \"x\": [0.0, 495.049504950495, 990.09900990099, 1485.148514851485, 1980.19801980198, 2475.2475247524753, 2970.29702970297, 3465.346534653465, 3960.39603960396, 4455.445544554455, 4950.495049504951, 5445.544554455445, 5940.59405940594, 6435.6435643564355, 6930.69306930693, 7425.742574257425, 7920.79207920792, 8415.841584158416, 8910.89108910891, 9405.940594059406, 9900.990099009901, 10396.039603960395, 10891.08910891089, 11386.138613861385, 11881.18811881188, 12376.237623762376, 12871.287128712871, 13366.336633663366, 13861.38613861386, 14356.435643564355, 14851.48514851485, 15346.534653465345, 15841.58415841584, 16336.633663366336, 16831.68316831683, 17326.732673267325, 17821.78217821782, 18316.831683168315, 18811.881188118812, 19306.930693069306, 19801.980198019803, 20297.029702970296, 20792.07920792079, 21287.128712871287, 21782.17821782178, 22277.227722772277, 22772.27722772277, 23267.326732673268, 23762.37623762376, 24257.425742574254, 24752.47524752475, -24752.47524752475, -24257.425742574254, -23762.37623762376, -23267.326732673268, -22772.27722772277, -22277.227722772277, -21782.17821782178, -21287.128712871287, -20792.07920792079, -20297.029702970296, -19801.980198019803, -19306.930693069306, -18811.881188118812, -18316.831683168315, -17821.78217821782, -17326.732673267325, -16831.68316831683, -16336.633663366336, -15841.58415841584, -15346.534653465345, -14851.48514851485, -14356.435643564355, -13861.38613861386, -13366.336633663366, -12871.287128712871, -12376.237623762376, -11881.18811881188, -11386.138613861385, -10891.08910891089, -10396.039603960395, -9900.990099009901, -9405.940594059406, -8910.89108910891, -8415.841584158416, -7920.79207920792, -7425.742574257425, -6930.69306930693, -6435.6435643564355, -5940.59405940594, -5445.544554455445, -4950.495049504951, -4455.445544554455, -3960.39603960396, -3465.346534653465, -2970.29702970297, -2475.2475247524753, -1980.19801980198, -1485.148514851485, -990.09900990099, -495.049504950495], \"y\": [-2.842170943040421e-13, -0.8290100919553501, -1.6064182181339248, -2.336088599057398, -3.021384199090726, -3.665247190359289, -4.270263708487056, -4.838716429888353, -5.3726276071662, -5.873794555245153, -6.343819110353389, -6.784132236411466, -7.196014693251138, -7.58061448491138, -7.9389616563797, -8.271980891968221, -8.580502278986785, -8.865270530399709, -9.126952904841447, -9.3661460185616, -9.58338170864265, -9.77913207854045, -9.953813833975017, -10.107791998331997, -10.24138308120466, -10.354857760805675, -10.44844313001427, -10.522324546708258, -10.57664712097461, -10.611516864969959, -10.627001524908692, -10.623131109228535, -10.599898121632897, -10.557257502921722, -10.495126280649709, -10.413382920755174, -10.311866370411666, -10.190374775892224, -10.048663853576178, -9.886444885652969, -9.703382304903549, -9.499090824371399, -9.273132058033202, -9.025010566846753, -8.754169250672813, -8.45998398980751, -8.141757419461689, -7.798711695497067, -7.429980078944297, -7.03459712835161, -6.611487241020097, -6.15945122343343, -5.677150494082231, -5.163088422893517, -4.6155881837397725, -4.032766329646186, -3.4125010810934473, -2.7523940259694344, -2.049723538024715, -1.3013876880252762, -0.5038336889930418, 0.3470301050484334, 1.255945073821241, 2.2284435856879363, 3.271031182823128, 4.391424787308873, 5.598868939558322, 6.904562884317487, 8.322248643481643, 9.869038849839631, 11.566612113744345, 13.442990949720269, 15.535280076686266, 17.89406380358048, 20.59083716475307, 23.73139041975602, 27.481982283270455, 32.12651033810971, 38.21284272337294, 47.034657259174026, 63.244875417730995, 90.96882757085054, 55.13815346444392, 43.02640476664365, 35.54995949519456, 30.135172003140163, 25.89404919214022, 22.413079250105106, 19.465786524934106, 16.91458144258537, 14.669587437656446, 12.668852646987851, 10.867863696692346, 9.233562391456786, 7.7407274275979185, 6.3696810837146, 5.104778194680164, 3.9333775528796613, 2.8451219605930973, 1.8314220696622443, 0.8850784927529951]}],                        {\"template\": {\"data\": {\"bar\": [{\"error_x\": {\"color\": \"#2a3f5f\"}, \"error_y\": {\"color\": \"#2a3f5f\"}, \"marker\": {\"line\": {\"color\": \"#E5ECF6\", \"width\": 0.5}}, \"type\": \"bar\"}], \"barpolar\": [{\"marker\": {\"line\": {\"color\": \"#E5ECF6\", \"width\": 0.5}}, \"type\": \"barpolar\"}], \"carpet\": [{\"aaxis\": {\"endlinecolor\": \"#2a3f5f\", \"gridcolor\": \"white\", \"linecolor\": \"white\", \"minorgridcolor\": \"white\", \"startlinecolor\": \"#2a3f5f\"}, \"baxis\": {\"endlinecolor\": \"#2a3f5f\", \"gridcolor\": \"white\", \"linecolor\": \"white\", \"minorgridcolor\": \"white\", \"startlinecolor\": \"#2a3f5f\"}, \"type\": \"carpet\"}], \"choropleth\": [{\"colorbar\": {\"outlinewidth\": 0, \"ticks\": \"\"}, \"type\": \"choropleth\"}], \"contour\": [{\"colorbar\": {\"outlinewidth\": 0, \"ticks\": \"\"}, \"colorscale\": [[0.0, \"#0d0887\"], [0.1111111111111111, \"#46039f\"], [0.2222222222222222, \"#7201a8\"], [0.3333333333333333, \"#9c179e\"], [0.4444444444444444, \"#bd3786\"], [0.5555555555555556, \"#d8576b\"], [0.6666666666666666, \"#ed7953\"], [0.7777777777777778, \"#fb9f3a\"], [0.8888888888888888, \"#fdca26\"], [1.0, \"#f0f921\"]], \"type\": \"contour\"}], \"contourcarpet\": [{\"colorbar\": {\"outlinewidth\": 0, \"ticks\": \"\"}, \"type\": \"contourcarpet\"}], \"heatmap\": [{\"colorbar\": {\"outlinewidth\": 0, \"ticks\": \"\"}, \"colorscale\": [[0.0, \"#0d0887\"], [0.1111111111111111, \"#46039f\"], [0.2222222222222222, \"#7201a8\"], [0.3333333333333333, \"#9c179e\"], [0.4444444444444444, \"#bd3786\"], [0.5555555555555556, \"#d8576b\"], [0.6666666666666666, \"#ed7953\"], [0.7777777777777778, \"#fb9f3a\"], [0.8888888888888888, \"#fdca26\"], [1.0, \"#f0f921\"]], \"type\": \"heatmap\"}], \"heatmapgl\": [{\"colorbar\": {\"outlinewidth\": 0, \"ticks\": \"\"}, \"colorscale\": [[0.0, \"#0d0887\"], [0.1111111111111111, \"#46039f\"], [0.2222222222222222, \"#7201a8\"], [0.3333333333333333, \"#9c179e\"], [0.4444444444444444, \"#bd3786\"], [0.5555555555555556, \"#d8576b\"], [0.6666666666666666, \"#ed7953\"], [0.7777777777777778, \"#fb9f3a\"], [0.8888888888888888, \"#fdca26\"], [1.0, \"#f0f921\"]], \"type\": \"heatmapgl\"}], \"histogram\": [{\"marker\": {\"colorbar\": {\"outlinewidth\": 0, \"ticks\": \"\"}}, \"type\": \"histogram\"}], \"histogram2d\": [{\"colorbar\": {\"outlinewidth\": 0, \"ticks\": \"\"}, \"colorscale\": [[0.0, \"#0d0887\"], [0.1111111111111111, \"#46039f\"], [0.2222222222222222, \"#7201a8\"], [0.3333333333333333, \"#9c179e\"], [0.4444444444444444, \"#bd3786\"], [0.5555555555555556, \"#d8576b\"], [0.6666666666666666, \"#ed7953\"], [0.7777777777777778, \"#fb9f3a\"], [0.8888888888888888, \"#fdca26\"], [1.0, \"#f0f921\"]], \"type\": \"histogram2d\"}], \"histogram2dcontour\": [{\"colorbar\": {\"outlinewidth\": 0, \"ticks\": \"\"}, \"colorscale\": [[0.0, \"#0d0887\"], [0.1111111111111111, \"#46039f\"], [0.2222222222222222, \"#7201a8\"], [0.3333333333333333, \"#9c179e\"], [0.4444444444444444, \"#bd3786\"], [0.5555555555555556, \"#d8576b\"], [0.6666666666666666, \"#ed7953\"], [0.7777777777777778, \"#fb9f3a\"], [0.8888888888888888, \"#fdca26\"], [1.0, \"#f0f921\"]], \"type\": \"histogram2dcontour\"}], \"mesh3d\": [{\"colorbar\": {\"outlinewidth\": 0, \"ticks\": \"\"}, \"type\": \"mesh3d\"}], \"parcoords\": [{\"line\": {\"colorbar\": {\"outlinewidth\": 0, \"ticks\": \"\"}}, \"type\": \"parcoords\"}], \"pie\": [{\"automargin\": true, \"type\": \"pie\"}], \"scatter\": [{\"marker\": {\"colorbar\": {\"outlinewidth\": 0, \"ticks\": \"\"}}, \"type\": \"scatter\"}], \"scatter3d\": [{\"line\": {\"colorbar\": {\"outlinewidth\": 0, \"ticks\": \"\"}}, \"marker\": {\"colorbar\": {\"outlinewidth\": 0, \"ticks\": \"\"}}, \"type\": \"scatter3d\"}], \"scattercarpet\": [{\"marker\": {\"colorbar\": {\"outlinewidth\": 0, \"ticks\": \"\"}}, \"type\": \"scattercarpet\"}], \"scattergeo\": [{\"marker\": {\"colorbar\": {\"outlinewidth\": 0, \"ticks\": \"\"}}, \"type\": \"scattergeo\"}], \"scattergl\": [{\"marker\": {\"colorbar\": {\"outlinewidth\": 0, \"ticks\": \"\"}}, \"type\": \"scattergl\"}], \"scattermapbox\": [{\"marker\": {\"colorbar\": {\"outlinewidth\": 0, \"ticks\": \"\"}}, \"type\": \"scattermapbox\"}], \"scatterpolar\": [{\"marker\": {\"colorbar\": {\"outlinewidth\": 0, \"ticks\": \"\"}}, \"type\": \"scatterpolar\"}], \"scatterpolargl\": [{\"marker\": {\"colorbar\": {\"outlinewidth\": 0, \"ticks\": \"\"}}, \"type\": \"scatterpolargl\"}], \"scatterternary\": [{\"marker\": {\"colorbar\": {\"outlinewidth\": 0, \"ticks\": \"\"}}, \"type\": \"scatterternary\"}], \"surface\": [{\"colorbar\": {\"outlinewidth\": 0, \"ticks\": \"\"}, \"colorscale\": [[0.0, \"#0d0887\"], [0.1111111111111111, \"#46039f\"], [0.2222222222222222, \"#7201a8\"], [0.3333333333333333, \"#9c179e\"], [0.4444444444444444, \"#bd3786\"], [0.5555555555555556, \"#d8576b\"], [0.6666666666666666, \"#ed7953\"], [0.7777777777777778, \"#fb9f3a\"], [0.8888888888888888, \"#fdca26\"], [1.0, \"#f0f921\"]], \"type\": \"surface\"}], \"table\": [{\"cells\": {\"fill\": {\"color\": \"#EBF0F8\"}, \"line\": {\"color\": \"white\"}}, \"header\": {\"fill\": {\"color\": \"#C8D4E3\"}, \"line\": {\"color\": \"white\"}}, \"type\": \"table\"}]}, \"layout\": {\"annotationdefaults\": {\"arrowcolor\": \"#2a3f5f\", \"arrowhead\": 0, \"arrowwidth\": 1}, \"autotypenumbers\": \"strict\", \"coloraxis\": {\"colorbar\": {\"outlinewidth\": 0, \"ticks\": \"\"}}, \"colorscale\": {\"diverging\": [[0, \"#8e0152\"], [0.1, \"#c51b7d\"], [0.2, \"#de77ae\"], [0.3, \"#f1b6da\"], [0.4, \"#fde0ef\"], [0.5, \"#f7f7f7\"], [0.6, \"#e6f5d0\"], [0.7, \"#b8e186\"], [0.8, \"#7fbc41\"], [0.9, \"#4d9221\"], [1, \"#276419\"]], \"sequential\": [[0.0, \"#0d0887\"], [0.1111111111111111, \"#46039f\"], [0.2222222222222222, \"#7201a8\"], [0.3333333333333333, \"#9c179e\"], [0.4444444444444444, \"#bd3786\"], [0.5555555555555556, \"#d8576b\"], [0.6666666666666666, \"#ed7953\"], [0.7777777777777778, \"#fb9f3a\"], [0.8888888888888888, \"#fdca26\"], [1.0, \"#f0f921\"]], \"sequentialminus\": [[0.0, \"#0d0887\"], [0.1111111111111111, \"#46039f\"], [0.2222222222222222, \"#7201a8\"], [0.3333333333333333, \"#9c179e\"], [0.4444444444444444, \"#bd3786\"], [0.5555555555555556, \"#d8576b\"], [0.6666666666666666, \"#ed7953\"], [0.7777777777777778, \"#fb9f3a\"], [0.8888888888888888, \"#fdca26\"], [1.0, \"#f0f921\"]]}, \"colorway\": [\"#636efa\", \"#EF553B\", \"#00cc96\", \"#ab63fa\", \"#FFA15A\", \"#19d3f3\", \"#FF6692\", \"#B6E880\", \"#FF97FF\", \"#FECB52\"], \"font\": {\"color\": \"#2a3f5f\"}, \"geo\": {\"bgcolor\": \"white\", \"lakecolor\": \"white\", \"landcolor\": \"#E5ECF6\", \"showlakes\": true, \"showland\": true, \"subunitcolor\": \"white\"}, \"hoverlabel\": {\"align\": \"left\"}, \"hovermode\": \"closest\", \"mapbox\": {\"style\": \"light\"}, \"paper_bgcolor\": \"white\", \"plot_bgcolor\": \"#E5ECF6\", \"polar\": {\"angularaxis\": {\"gridcolor\": \"white\", \"linecolor\": \"white\", \"ticks\": \"\"}, \"bgcolor\": \"#E5ECF6\", \"radialaxis\": {\"gridcolor\": \"white\", \"linecolor\": \"white\", \"ticks\": \"\"}}, \"scene\": {\"xaxis\": {\"backgroundcolor\": \"#E5ECF6\", \"gridcolor\": \"white\", \"gridwidth\": 2, \"linecolor\": \"white\", \"showbackground\": true, \"ticks\": \"\", \"zerolinecolor\": \"white\"}, \"yaxis\": {\"backgroundcolor\": \"#E5ECF6\", \"gridcolor\": \"white\", \"gridwidth\": 2, \"linecolor\": \"white\", \"showbackground\": true, \"ticks\": \"\", \"zerolinecolor\": \"white\"}, \"zaxis\": {\"backgroundcolor\": \"#E5ECF6\", \"gridcolor\": \"white\", \"gridwidth\": 2, \"linecolor\": \"white\", \"showbackground\": true, \"ticks\": \"\", \"zerolinecolor\": \"white\"}}, \"shapedefaults\": {\"line\": {\"color\": \"#2a3f5f\"}}, \"ternary\": {\"aaxis\": {\"gridcolor\": \"white\", \"linecolor\": \"white\", \"ticks\": \"\"}, \"baxis\": {\"gridcolor\": \"white\", \"linecolor\": \"white\", \"ticks\": \"\"}, \"bgcolor\": \"#E5ECF6\", \"caxis\": {\"gridcolor\": \"white\", \"linecolor\": \"white\", \"ticks\": \"\"}}, \"title\": {\"x\": 0.05}, \"xaxis\": {\"automargin\": true, \"gridcolor\": \"white\", \"linecolor\": \"white\", \"ticks\": \"\", \"title\": {\"standoff\": 15}, \"zerolinecolor\": \"white\", \"zerolinewidth\": 2}, \"yaxis\": {\"automargin\": true, \"gridcolor\": \"white\", \"linecolor\": \"white\", \"ticks\": \"\", \"title\": {\"standoff\": 15}, \"zerolinecolor\": \"white\", \"zerolinewidth\": 2}}}},                        {\"responsive\": true}                    ).then(function(){\n",
       "                            \n",
       "var gd = document.getElementById('6b84c4fd-f82e-42db-822b-8c717f3ce340');\n",
       "var x = new MutationObserver(function (mutations, observer) {{\n",
       "        var display = window.getComputedStyle(gd).display;\n",
       "        if (!display || display === 'none') {{\n",
       "            console.log([gd, 'removed!']);\n",
       "            Plotly.purge(gd);\n",
       "            observer.disconnect();\n",
       "        }}\n",
       "}});\n",
       "\n",
       "// Listen for the removal of the full notebook cells\n",
       "var notebookContainer = gd.closest('#notebook-container');\n",
       "if (notebookContainer) {{\n",
       "    x.observe(notebookContainer, {childList: true});\n",
       "}}\n",
       "\n",
       "// Listen for the clearing of the current output cell\n",
       "var outputEl = gd.closest('.output');\n",
       "if (outputEl) {{\n",
       "    x.observe(outputEl, {childList: true});\n",
       "}}\n",
       "\n",
       "                        })                };                });            </script>        </div>"
      ]
     },
     "metadata": {},
     "output_type": "display_data"
    },
    {
     "data": {
      "application/vnd.plotly.v1+json": {
       "config": {
        "plotlyServerURL": "https://plot.ly"
       },
       "data": [
        {
         "type": "scatter",
         "x": [
          0,
          50,
          100,
          150,
          200,
          250,
          300,
          350,
          400,
          450,
          500,
          550,
          600,
          650,
          700,
          750,
          800,
          850,
          900,
          950,
          1000,
          1050,
          1100,
          1150,
          1200,
          1250,
          1300,
          1350,
          1400,
          1450,
          1500,
          1550,
          1600,
          1650,
          1700,
          1750,
          1800,
          1850,
          1900,
          1950,
          2000,
          2050,
          2100,
          2150,
          2200,
          2250,
          2300,
          2350,
          2400,
          2450,
          2500,
          2550,
          2600,
          2650,
          2700,
          2750,
          2800,
          2850,
          2900,
          2950,
          3000,
          3050,
          3100,
          3150,
          3200,
          3250,
          3300,
          3350,
          3400,
          3450,
          3500,
          3550,
          3600,
          3650,
          3700,
          3750,
          3800,
          3850,
          3900,
          3950,
          4000,
          4050,
          4100,
          4150,
          4200,
          4250,
          4300,
          4350,
          4400,
          4450,
          4500,
          4550,
          4600,
          4650,
          4700,
          4750,
          4800,
          4850,
          4900,
          4950,
          5000,
          5050,
          5100,
          5150,
          5200,
          5250,
          5300,
          5350,
          5400,
          5450,
          5500,
          5550,
          5600,
          5650,
          5700,
          5750,
          5800,
          5850,
          5900,
          5950,
          6000,
          6050,
          6100,
          6150,
          6200,
          6250,
          6300,
          6350,
          6400,
          6450,
          6500,
          6550,
          6600,
          6650,
          6700,
          6750,
          6800,
          6850,
          6900,
          6950,
          7000,
          7050,
          7100,
          7150,
          7200,
          7250,
          7300,
          7350,
          7400,
          7450,
          7500,
          7550,
          7600,
          7650,
          7700,
          7750,
          7800,
          7850,
          7900,
          7950,
          8000,
          8050,
          8100,
          8150,
          8200,
          8250,
          8300,
          8350,
          8400,
          8450,
          8500,
          8550,
          8600,
          8650,
          8700,
          8750,
          8800,
          8850,
          8900,
          8950,
          9000,
          9050,
          9100,
          9150,
          9200,
          9250,
          9300,
          9350,
          9400,
          9450,
          9500,
          9550,
          9600,
          9650,
          9700,
          9750,
          9800,
          9850,
          9900,
          9950,
          10000,
          10050,
          10100,
          10150,
          10200,
          10250,
          10300,
          10350,
          10400,
          10450,
          10500,
          10550,
          10600,
          10650,
          10700,
          10750,
          10800,
          10850,
          10900,
          10950,
          11000,
          11050,
          11100,
          11150,
          11200,
          11250,
          11300,
          11350,
          11400,
          11450,
          11500,
          11550,
          11600,
          11650,
          11700,
          11750,
          11800,
          11850,
          11900,
          11950,
          12000,
          12050,
          12100,
          12150,
          12200,
          12250,
          12300,
          12350,
          12400,
          12450,
          12500,
          12550,
          12600,
          12650,
          12700,
          12750,
          12800,
          12850,
          12900,
          12950,
          13000,
          13050,
          13100,
          13150,
          13200,
          13250,
          13300,
          13350,
          13400,
          13450,
          13500,
          13550,
          13600,
          13650,
          13700,
          13750,
          13800,
          13850,
          13900,
          13950,
          14000,
          14050,
          14100,
          14150,
          14200,
          14250,
          14300,
          14350,
          14400,
          14450,
          14500,
          14550,
          14600,
          14650,
          14700,
          14750,
          14800,
          14850,
          14900,
          14950,
          15000,
          15050,
          15100,
          15150,
          15200,
          15250,
          15300,
          15350,
          15400,
          15450,
          15500,
          15550,
          15600,
          15650,
          15700,
          15750,
          15800,
          15850,
          15900,
          15950,
          16000,
          16050,
          16100,
          16150,
          16200,
          16250,
          16300,
          16350,
          16400,
          16450,
          16500,
          16550,
          16600,
          16650,
          16700,
          16750,
          16800,
          16850,
          16900,
          16950,
          17000,
          17050,
          17100,
          17150,
          17200,
          17250,
          17300,
          17350,
          17400,
          17450,
          17500,
          17550,
          17600,
          17650,
          17700,
          17750,
          17800,
          17850,
          17900,
          17950,
          18000,
          18050,
          18100,
          18150,
          18200,
          18250,
          18300,
          18350,
          18400,
          18450,
          18500,
          18550,
          18600,
          18650,
          18700,
          18750,
          18800,
          18850,
          18900,
          18950,
          19000,
          19050,
          19100,
          19150,
          19200,
          19250,
          19300,
          19350,
          19400,
          19450,
          19500,
          19550,
          19600,
          19650,
          19700,
          19750,
          19800,
          19850,
          19900,
          19950,
          20000,
          20050,
          20100,
          20150,
          20200,
          20250,
          20300,
          20350,
          20400,
          20450,
          20500,
          20550,
          20600,
          20650,
          20700,
          20750,
          20800,
          20850,
          20900,
          20950,
          21000,
          21050,
          21100,
          21150,
          21200,
          21250,
          21300,
          21350,
          21400,
          21450,
          21500,
          21550,
          21600,
          21650,
          21700,
          21750,
          21800,
          21850,
          21900,
          21950,
          22000,
          22050,
          22100,
          22150,
          22200,
          22250,
          22300,
          22350,
          22400,
          22450,
          22500,
          22550,
          22600,
          22650,
          22700,
          22750,
          22800,
          22850,
          22900,
          22950,
          23000,
          23050,
          23100,
          23150,
          23200,
          23250,
          23300,
          23350,
          23400,
          23450,
          23500,
          23550,
          23600,
          23650,
          23700,
          23750,
          23800,
          23850,
          23900,
          23950,
          24000,
          24050,
          24100,
          24150,
          24200,
          24250,
          24300,
          24350,
          24400,
          24450,
          24500,
          24550,
          24600,
          24650,
          24700,
          24750,
          24800,
          24850,
          24900,
          24950,
          -25000,
          -24950,
          -24900,
          -24850,
          -24800,
          -24750,
          -24700,
          -24650,
          -24600,
          -24550,
          -24500,
          -24450,
          -24400,
          -24350,
          -24300,
          -24250,
          -24200,
          -24150,
          -24100,
          -24050,
          -24000,
          -23950,
          -23900,
          -23850,
          -23800,
          -23750,
          -23700,
          -23650,
          -23600,
          -23550,
          -23500,
          -23450,
          -23400,
          -23350,
          -23300,
          -23250,
          -23200,
          -23150,
          -23100,
          -23050,
          -23000,
          -22950,
          -22900,
          -22850,
          -22800,
          -22750,
          -22700,
          -22650,
          -22600,
          -22550,
          -22500,
          -22450,
          -22400,
          -22350,
          -22300,
          -22250,
          -22200,
          -22150,
          -22100,
          -22050,
          -22000,
          -21950,
          -21900,
          -21850,
          -21800,
          -21750,
          -21700,
          -21650,
          -21600,
          -21550,
          -21500,
          -21450,
          -21400,
          -21350,
          -21300,
          -21250,
          -21200,
          -21150,
          -21100,
          -21050,
          -21000,
          -20950,
          -20900,
          -20850,
          -20800,
          -20750,
          -20700,
          -20650,
          -20600,
          -20550,
          -20500,
          -20450,
          -20400,
          -20350,
          -20300,
          -20250,
          -20200,
          -20150,
          -20100,
          -20050,
          -20000,
          -19950,
          -19900,
          -19850,
          -19800,
          -19750,
          -19700,
          -19650,
          -19600,
          -19550,
          -19500,
          -19450,
          -19400,
          -19350,
          -19300,
          -19250,
          -19200,
          -19150,
          -19100,
          -19050,
          -19000,
          -18950,
          -18900,
          -18850,
          -18800,
          -18750,
          -18700,
          -18650,
          -18600,
          -18550,
          -18500,
          -18450,
          -18400,
          -18350,
          -18300,
          -18250,
          -18200,
          -18150,
          -18100,
          -18050,
          -18000,
          -17950,
          -17900,
          -17850,
          -17800,
          -17750,
          -17700,
          -17650,
          -17600,
          -17550,
          -17500,
          -17450,
          -17400,
          -17350,
          -17300,
          -17250,
          -17200,
          -17150,
          -17100,
          -17050,
          -17000,
          -16950,
          -16900,
          -16850,
          -16800,
          -16750,
          -16700,
          -16650,
          -16600,
          -16550,
          -16500,
          -16450,
          -16400,
          -16350,
          -16300,
          -16250,
          -16200,
          -16150,
          -16100,
          -16050,
          -16000,
          -15950,
          -15900,
          -15850,
          -15800,
          -15750,
          -15700,
          -15650,
          -15600,
          -15550,
          -15500,
          -15450,
          -15400,
          -15350,
          -15300,
          -15250,
          -15200,
          -15150,
          -15100,
          -15050,
          -15000,
          -14950,
          -14900,
          -14850,
          -14800,
          -14750,
          -14700,
          -14650,
          -14600,
          -14550,
          -14500,
          -14450,
          -14400,
          -14350,
          -14300,
          -14250,
          -14200,
          -14150,
          -14100,
          -14050,
          -14000,
          -13950,
          -13900,
          -13850,
          -13800,
          -13750,
          -13700,
          -13650,
          -13600,
          -13550,
          -13500,
          -13450,
          -13400,
          -13350,
          -13300,
          -13250,
          -13200,
          -13150,
          -13100,
          -13050,
          -13000,
          -12950,
          -12900,
          -12850,
          -12800,
          -12750,
          -12700,
          -12650,
          -12600,
          -12550,
          -12500,
          -12450,
          -12400,
          -12350,
          -12300,
          -12250,
          -12200,
          -12150,
          -12100,
          -12050,
          -12000,
          -11950,
          -11900,
          -11850,
          -11800,
          -11750,
          -11700,
          -11650,
          -11600,
          -11550,
          -11500,
          -11450,
          -11400,
          -11350,
          -11300,
          -11250,
          -11200,
          -11150,
          -11100,
          -11050,
          -11000,
          -10950,
          -10900,
          -10850,
          -10800,
          -10750,
          -10700,
          -10650,
          -10600,
          -10550,
          -10500,
          -10450,
          -10400,
          -10350,
          -10300,
          -10250,
          -10200,
          -10150,
          -10100,
          -10050,
          -10000,
          -9950,
          -9900,
          -9850,
          -9800,
          -9750,
          -9700,
          -9650,
          -9600,
          -9550,
          -9500,
          -9450,
          -9400,
          -9350,
          -9300,
          -9250,
          -9200,
          -9150,
          -9100,
          -9050,
          -9000,
          -8950,
          -8900,
          -8850,
          -8800,
          -8750,
          -8700,
          -8650,
          -8600,
          -8550,
          -8500,
          -8450,
          -8400,
          -8350,
          -8300,
          -8250,
          -8200,
          -8150,
          -8100,
          -8050,
          -8000,
          -7950,
          -7900,
          -7850,
          -7800,
          -7750,
          -7700,
          -7650,
          -7600,
          -7550,
          -7500,
          -7450,
          -7400,
          -7350,
          -7300,
          -7250,
          -7200,
          -7150,
          -7100,
          -7050,
          -7000,
          -6950,
          -6900,
          -6850,
          -6800,
          -6750,
          -6700,
          -6650,
          -6600,
          -6550,
          -6500,
          -6450,
          -6400,
          -6350,
          -6300,
          -6250,
          -6200,
          -6150,
          -6100,
          -6050,
          -6000,
          -5950,
          -5900,
          -5850,
          -5800,
          -5750,
          -5700,
          -5650,
          -5600,
          -5550,
          -5500,
          -5450,
          -5400,
          -5350,
          -5300,
          -5250,
          -5200,
          -5150,
          -5100,
          -5050,
          -5000,
          -4950,
          -4900,
          -4850,
          -4800,
          -4750,
          -4700,
          -4650,
          -4600,
          -4550,
          -4500,
          -4450,
          -4400,
          -4350,
          -4300,
          -4250,
          -4200,
          -4150,
          -4100,
          -4050,
          -4000,
          -3950,
          -3900,
          -3850,
          -3800,
          -3750,
          -3700,
          -3650,
          -3600,
          -3550,
          -3500,
          -3450,
          -3400,
          -3350,
          -3300,
          -3250,
          -3200,
          -3150,
          -3100,
          -3050,
          -3000,
          -2950,
          -2900,
          -2850,
          -2800,
          -2750,
          -2700,
          -2650,
          -2600,
          -2550,
          -2500,
          -2450,
          -2400,
          -2350,
          -2300,
          -2250,
          -2200,
          -2150,
          -2100,
          -2050,
          -2000,
          -1950,
          -1900,
          -1850,
          -1800,
          -1750,
          -1700,
          -1650,
          -1600,
          -1550,
          -1500,
          -1450,
          -1400,
          -1350,
          -1300,
          -1250,
          -1200,
          -1150,
          -1100,
          -1050,
          -1000,
          -950,
          -900,
          -850,
          -800,
          -750,
          -700,
          -650,
          -600,
          -550,
          -500,
          -450,
          -400,
          -350,
          -300,
          -250,
          -200,
          -150,
          -100,
          -50
         ],
         "y": [
          -567.9506151079809,
          -560.5559274680801,
          -581.7167089981502,
          -562.2193206178989,
          -566.4175471129677,
          -566.8147072634405,
          -566.9260415135282,
          -586.8863283711897,
          -580.8031534763994,
          -556.5409979139649,
          -567.1929583228839,
          -555.2400125920196,
          -552.7441677287172,
          -555.2101638786011,
          -588.4430202478063,
          -555.496676286356,
          -567.2490133662457,
          -573.2577056185995,
          -565.841271959484,
          -559.2757784847518,
          -564.6133605494372,
          -590.5794729346732,
          -575.3810578090142,
          -548.3304870155554,
          -567.4393350871444,
          -544.2334373198967,
          -558.171262995295,
          -574.4011716355585,
          -548.7615781477983,
          -543.2191976156809,
          -566.5122657399849,
          -560.6853635718301,
          -532.9889061619879,
          -520.5371534751735,
          -510.2892431372646,
          -515.537167147433,
          -513.0175938956374,
          -514.5589989103946,
          -526.5678359225625,
          -542.221533084617,
          -577.830282733005,
          -551.186255178561,
          -546.1499275369804,
          -557.7936293255816,
          -575.5543812259314,
          -581.6492327732535,
          -549.5431298871315,
          -550.4612548458155,
          -581.6551507851345,
          -598.0369951597503,
          -582.8981499784848,
          -555.4989204429742,
          -565.105059727485,
          -567.9896405509114,
          -566.0169754728896,
          -567.8613980150384,
          -554.3157688418271,
          -552.9794090141369,
          -564.0312818564372,
          -565.0056442053274,
          -569.7899778724274,
          -571.1111583277927,
          -564.4566918771163,
          -568.2814080403275,
          -575.5257052004706,
          -602.6341497181853,
          -557.0156662959077,
          -568.2784932539864,
          -597.2635264982323,
          -570.0678890085542,
          -580.0268339768205,
          -585.2718373692089,
          -601.7921928479234,
          -577.8179447762614,
          -593.5479804794331,
          -562.2129990368628,
          -562.3440530359809,
          -552.3869751674242,
          -571.618750804537,
          -562.6747461954853,
          -591.9360787233462,
          -569.9730642502878,
          -568.6138358405567,
          -579.4859556037566,
          -560.6169839813512,
          -569.2180202129696,
          -561.9794761503398,
          -560.977764918081,
          -568.221377943783,
          -578.9258535122071,
          -571.8835073282391,
          -551.9979334585165,
          -556.8791299311207,
          -538.6710760042318,
          -527.6281034686613,
          -543.6343536045906,
          -537.6365897769879,
          -543.0987468580588,
          -562.0825801723626,
          -573.6340648946863,
          -592.9384837474236,
          -561.5600403912505,
          -570.6914542926123,
          -595.943124712903,
          -595.5528462446047,
          -564.8551474906909,
          -559.6312527317984,
          -582.207166685614,
          -578.6807498705558,
          -590.7880359229314,
          -563.3795968784113,
          -559.2100017347108,
          -589.6161073898477,
          -577.9071132226561,
          -576.481026812856,
          -568.4120765633977,
          -563.8428435335369,
          -566.2513221079586,
          -605.95724516937,
          -553.5512918434049,
          -583.6420307045001,
          -586.3060130289604,
          -594.1677142614524,
          -559.5165824669011,
          -566.1316425359487,
          -564.984735288464,
          -574.2923302299233,
          -580.5874122663307,
          -574.1721358195883,
          -588.9279906414984,
          -583.8973208170471,
          -570.1399863005936,
          -600.8354043529204,
          -608.202115855871,
          -594.3573222541735,
          -596.1809878138808,
          -590.6847054145995,
          -574.4727412466843,
          -577.8009361839682,
          -570.1094390640089,
          -562.000240550097,
          -561.8312142310838,
          -563.7886196793805,
          -630.258094082683,
          -563.5206297191661,
          -573.8232238838016,
          -582.1719569595126,
          -565.2700451699747,
          -571.7396670882757,
          -557.7873794802457,
          -551.6592741719154,
          -576.867965507201,
          -530.1527560364499,
          -534.8141054028595,
          -577.476620838425,
          -543.5670248496878,
          -584.2718820244828,
          -559.1126432972808,
          -561.3362013689336,
          -563.8999392299287,
          -551.6517161461152,
          -588.7306549366475,
          -580.3428362506672,
          -612.0234446751244,
          -557.4482041969862,
          -569.2848712468269,
          -587.2646689601406,
          -571.0730828306295,
          -596.2372429543627,
          -581.2450559817693,
          -603.5138322780796,
          -578.5860022418503,
          -589.1550371461046,
          -570.9171731366309,
          -555.6097666713889,
          -558.6085996596196,
          -576.6678236857637,
          -578.3264742504992,
          -576.3186603739313,
          -566.9676713291909,
          -578.28977491071,
          -570.3808044523784,
          -572.6908860209163,
          -573.2164975272145,
          -564.1241153060917,
          -570.5496984128574,
          -564.9676009668849,
          -611.7153997425539,
          -568.9281884330238,
          -568.0662197901147,
          -568.0950312225632,
          -568.8708560740987,
          -578.9675657136033,
          -587.8839209304432,
          -589.5520125773077,
          -564.459710573408,
          -574.8458089222474,
          -573.1141443215397,
          -576.4221880102461,
          -596.246094097738,
          -585.1769222019519,
          -573.2947536936781,
          -572.6657716625225,
          -560.3195557124824,
          -556.6679769998324,
          -551.4385950622684,
          -561.7392292248772,
          -570.7995824905104,
          -560.2450479997149,
          -564.9756324714285,
          -542.3756224881013,
          -528.0389317945303,
          -542.0060489298252,
          -541.367919703992,
          -542.95321005255,
          -551.1641054910303,
          -568.7079470144563,
          -618.497275193507,
          -564.7379340908701,
          -570.5613786679236,
          -575.8270463087873,
          -589.9059702736384,
          -566.300023535223,
          -563.6327105767573,
          -561.6439111867513,
          -582.7824838245818,
          -571.9431681756332,
          -560.6479187377266,
          -585.5661698928302,
          -575.1584582983126,
          -569.9023740807987,
          -569.7177978086083,
          -566.9166281646975,
          -582.0294419379643,
          -577.7718041941127,
          -577.1868536068507,
          -567.6827776499849,
          -560.2396249510518,
          -563.1314019937931,
          -558.4225055405255,
          -566.154162593528,
          -561.183518910864,
          -566.7608483154484,
          -591.8074306617411,
          -565.3967197740495,
          -568.8713118480802,
          -553.7391731575431,
          -567.5584612340052,
          -593.5329193373908,
          -575.2731939479157,
          -570.2805732616569,
          -581.3859939121452,
          -582.9376246548936,
          -570.4798638647867,
          -559.6506060845979,
          -554.9519303314001,
          -565.8462381115269,
          -572.4614109900675,
          -564.1542255066684,
          -558.5785601525936,
          -570.5283852218644,
          -570.2500233165568,
          -553.6544248266298,
          -562.5263745354292,
          -544.8283977028644,
          -558.7690983282648,
          -577.484404907333,
          -536.8737820388421,
          -535.4343450433693,
          -516.0465368335848,
          -515.1287688610346,
          -527.9078866417767,
          -514.4660154402309,
          -533.3087986823957,
          -530.4219287725297,
          -548.4111183229699,
          -573.1028874880791,
          -540.9662366542104,
          -556.5111491895785,
          -563.334577464219,
          -556.1204096570792,
          -556.6296700075407,
          -551.227430109021,
          -567.2979864301565,
          -562.6447952536979,
          -563.4539921648476,
          -573.6857658834488,
          -560.7823391019102,
          -571.9722547055063,
          -596.5846016713881,
          -566.2784036137429,
          -571.6172653462772,
          -566.4678408497288,
          -573.5197921470169,
          -584.7471036972264,
          -578.0531117569335,
          -578.6871382796978,
          -568.1919333132064,
          -559.8892625204136,
          -589.3274909257536,
          -615.9700536625827,
          -589.2562629502016,
          -559.9644107702135,
          -568.0987470475732,
          -578.549609269299,
          -578.1213826467235,
          -585.1755652438967,
          -573.4464605740686,
          -566.439257306462,
          -571.6478755538591,
          -566.2572162219051,
          -596.7251976328417,
          -572.1109999504965,
          -560.7803041135246,
          -573.602743526388,
          -563.4956586014946,
          -562.4023813472484,
          -567.3140415154545,
          -551.2007067332928,
          -556.6103797220479,
          -556.6324799877443,
          -563.3328772243867,
          -556.4618973648139,
          -540.979615163981,
          -573.0744123427244,
          -548.4077070273191,
          -530.43103647783,
          -533.3133148666439,
          -514.4740997078922,
          -527.9098644979404,
          -515.1328922795416,
          -516.0393493415669,
          -535.4395078834305,
          -536.8744744403041,
          -577.5773290489717,
          -558.748188686984,
          -544.8207606768889,
          -562.5607433368498,
          -553.707848912966,
          -570.2336130161277,
          -570.3314652439607,
          -558.6141915566145,
          -564.3364983318054,
          -572.4597593328351,
          -565.8905874442604,
          -554.9692565445348,
          -559.6964465169241,
          -570.5085860291355,
          -582.8798901734718,
          -581.3109296796666,
          -570.3929582619252,
          -575.2034493778884,
          -593.6076976998659,
          -567.5134340652814,
          -553.8014193265883,
          -568.8708226009322,
          -565.4841514839613,
          -591.8865200962073,
          -566.6529588158805,
          -561.2112534635214,
          -566.0834229045596,
          -558.4075085656664,
          -563.022489343449,
          -560.2729102725347,
          -567.5881899270441,
          -576.9968978762159,
          -577.5830117692234,
          -582.0395821248255,
          -567.0532928964093,
          -569.6957744901451,
          -570.0562672606766,
          -575.209122581774,
          -585.7887756185532,
          -560.6955276274566,
          -571.6270649141535,
          -582.789704134472,
          -561.6056479573022,
          -563.6601444322371,
          -566.1285160521613,
          -589.8146973618011,
          -575.8292046890648,
          -570.5797312902475,
          -564.6198045109186,
          -619.809263870266,
          -568.8256292825848,
          -551.1517299651779,
          -542.9739835742662,
          -541.3597612054612,
          -541.9368610683849,
          -528.0439717078011,
          -542.3333838974663,
          -564.9412861239547,
          -560.5917571074759,
          -570.8045177787353,
          -561.8295737101214,
          -551.3944133165463,
          -556.6934521384903,
          -560.2842638947003,
          -572.8599714039225,
          -573.3564962918585,
          -586.4147191399117,
          -596.1111338838181,
          -576.2635888608658,
          -573.1654924869782,
          -575.0724854655062,
          -564.4269469895955,
          -589.5537613802828,
          -588.3176198829208,
          -578.8088334404013,
          -568.8350805468502,
          -568.1817035433916,
          -567.9959951952212,
          -568.8091393677123,
          -612.3757964049929,
          -565.1154309982558,
          -570.7004143422761,
          -564.1156478796977,
          -573.2232287570693,
          -572.6223366431075,
          -570.3953850064948,
          -578.0711866120054,
          -567.010904286543,
          -575.9666386522395,
          -578.3141034797997,
          -576.9628913821923,
          -558.6645342064628,
          -555.6156299711629,
          -570.8303657202164,
          -590.1158239107043,
          -578.6748481681365,
          -602.7571315500644,
          -581.2592805439689,
          -594.0434643820797,
          -571.0398869293109,
          -586.8043558597527,
          -569.5132498906062,
          -557.4321392705965,
          -611.2380255034465,
          -580.3652356537876,
          -588.7000989429677,
          -551.4975934889712,
          -563.9137271044829,
          -561.3323952416293,
          -559.0867877387786,
          -584.3663255110237,
          -543.5693020173684,
          -577.490037199782,
          -534.8286176932088,
          -530.1837691114565,
          -576.8350737397711,
          -551.6835723645703,
          -557.7721876000303,
          -571.5229328648048,
          -565.275924640633,
          -582.4333171914699,
          -573.929854275098,
          -563.4477492065612,
          -628.2565354075379,
          -564.0254627276589,
          -561.8205713417082,
          -562.223486129856,
          -570.1024620052981,
          -577.6634515858502,
          -574.5297716617877,
          -590.0875066091621,
          -596.1956783323864,
          -594.2049477317978,
          -608.5773691818206,
          -601.5928316856844,
          -570.3516183299231,
          -583.792398396714,
          -588.9117960985194,
          -573.9996613212373,
          -580.5252860209728,
          -574.3828933854645,
          -564.965228253914,
          -566.1875144740744,
          -559.4651258239629,
          -593.9927830722921,
          -586.2164244614085,
          -582.1496343599471,
          -553.5729394465161,
          -606.3566210651659,
          -566.2664109380632,
          -563.8007862144793,
          -568.3612352070726,
          -576.4889086787796,
          -577.8111585201602,
          -588.8481857037223,
          -559.2341300050462,
          -563.2869933334298,
          -590.876775594649,
          -578.8322554787403,
          -582.3390707074205,
          -559.6041719790572,
          -564.8892785636577,
          -596.5852406976725,
          -596.3888382044524,
          -570.5735388729438,
          -561.572490098141,
          -593.0391854483559,
          -573.6220464261364,
          -562.2253056669422,
          -543.1274724097173,
          -537.7099108509743,
          -543.6290695033362,
          -527.6218907024428,
          -538.6735523864298,
          -556.8509334079708,
          -552.0292057490401,
          -571.6678481545268,
          -578.9958448655078,
          -568.6055497654426,
          -560.9570497417267,
          -561.9727657059035,
          -569.2125777565851,
          -560.4927070722375,
          -579.5321432050544,
          -568.5363699898676,
          -569.9462255987343,
          -590.0079820790465,
          -562.6654084106683,
          -571.6394088931894,
          -552.3779948529209,
          -562.3570713390798,
          -562.1913272406009,
          -593.4764086119559,
          -577.823855588621,
          -601.1696783305913,
          -585.1783323566007,
          -579.877728330808,
          -570.0841914559462,
          -597.8138778814086,
          -568.2289837602243,
          -556.9750080760523,
          -602.4657239381838,
          -575.3116171697088,
          -568.2216998523132,
          -564.6572522519036,
          -571.0976814000329,
          -569.7000041250375,
          -565.071698486603,
          -563.9117196398521,
          -552.9928630967149,
          -554.5049186410647,
          -567.8542679438602,
          -566.0544591183224,
          -568.0349003877375,
          -565.0541644268164,
          -555.5067002229508,
          -582.9198270985419,
          -597.9644669410682,
          -581.467157959643,
          -550.4806308630223,
          -549.5274124011139,
          -581.6389349463242,
          -575.5357984097341,
          -557.7597228360603,
          -546.1312292799034,
          -551.1873845965035,
          -578.2651200929521,
          -542.2324732013227,
          -526.5525888809483,
          -514.556649055939,
          -513.0304442941137,
          -515.5345369319494,
          -510.29936421509007,
          -520.5368488633593,
          -532.9571118413354,
          -560.686826213134,
          -566.7721070489641,
          -543.2354002833664,
          -548.7912900570684,
          -574.315564300194,
          -558.2476559687038,
          -544.2354669286034,
          -567.869028603686,
          -548.3224239876218,
          -575.4773534992146,
          -590.5668027447936,
          -564.4450631989105,
          -559.2579016725653,
          -566.009571425084,
          -573.2146655738363,
          -567.1303298396613,
          -555.4358600133294,
          -589.0975813117127,
          -555.2581587661491,
          -552.8310519104555,
          -555.2897398228009,
          -567.347005123401,
          -556.4959652017185,
          -580.4520275231201,
          -586.7888406962267,
          -566.9660769206669,
          -566.8808529301392,
          -566.1450429035652,
          -562.2754930244479,
          -581.6319861186166,
          -560.5650383249747,
          -567.0125833475714,
          -563.5743182993103,
          -592.7424049011473,
          -621.6525227560073,
          -587.0135971243365,
          -562.0021677507929,
          -585.8781963173308,
          -549.1053491618395,
          -545.2141264202363,
          -544.1788816270899,
          -562.2460696440282,
          -555.3305397822307,
          -568.1216229816512,
          -564.1270175075032,
          -565.0694575442423,
          -565.8384108981502,
          -568.2927518483565,
          -565.9305073082802,
          -552.6929982971967,
          -560.4421274901949,
          -546.4954893363393,
          -545.1738379179754,
          -528.0756674604711,
          -555.6666155748256,
          -532.0247173408022,
          -532.2711468587646,
          -559.440410281626,
          -553.5678689361288,
          -559.3971073344863,
          -565.0736287318111,
          -570.1953814901568,
          -565.2749190852928,
          -575.8799197532326,
          -574.3715634707382,
          -576.3682846524403,
          -568.4340652375598,
          -556.0443976597567,
          -565.6800787565026,
          -553.3346886101726,
          -547.7176776366291,
          -558.7633812888389,
          -549.9501088623241,
          -565.7262005481049,
          -585.6004236259151,
          -568.1385065567299,
          -570.5047100133778,
          -569.5922675770018,
          -570.1623848019349,
          -583.3234117428939,
          -572.4332345057599,
          -603.6612351977159,
          -551.0709488714367,
          -552.4566121001617,
          -555.5910529284084,
          -563.0282079210776,
          -567.136232307986,
          -563.7925955194725,
          -569.1603471846734,
          -603.2827965656726,
          -574.8019076725434,
          -570.6564806172598,
          -575.8014163342291,
          -559.1071039153417,
          -570.6890055387421,
          -630.2884454259344,
          -589.0532639202247,
          -556.6648119216153,
          -559.53631185201,
          -583.6562660115079,
          -566.404569412218,
          -547.5371899710326,
          -539.6836845699453,
          -531.6875778560592,
          -557.4668032444529,
          -557.2968645905864,
          -578.8913658421199,
          -553.7684608531968,
          -556.9093905400974,
          -561.5075050298339,
          -578.4875082894162,
          -553.9941878924552,
          -540.1998118779618,
          -548.2270481067169,
          -525.4194594613357,
          -550.0643726588062,
          -537.4585675457279,
          -543.6582565837068,
          -561.5245566647563,
          -564.1792582625476,
          -555.6430416781161,
          -571.1561109077851,
          -559.331950987147,
          -563.8128517020359,
          -568.3176674391406,
          -571.8837523712584,
          -562.1779857755938,
          -563.5280465168115,
          -586.7303688258039,
          -574.300594951288,
          -571.2871877674411,
          -553.4125445302986,
          -554.3848215139977,
          -544.8904578946112,
          -536.6282918483441,
          -551.2979545588785,
          -534.1778195956216,
          -547.9934727016091,
          -559.5082971464667,
          -565.344316334835,
          -566.5311741522465,
          -555.9944152748296,
          -560.1790579072685,
          -564.3906113952735,
          -566.2714357457126,
          -574.5846323152851,
          -550.1606293033911,
          -544.0724893882887,
          -545.7271590218904,
          -545.6349082007847,
          -544.4092182635678,
          -557.3870779254243,
          -558.7636235113216,
          -566.3116399264477,
          -570.2757723987215,
          -557.971661844982,
          -565.7236405632189,
          -557.7561002241106,
          -560.9069670546377,
          -557.9612801719159,
          -553.7323806899615,
          -566.0040750301685,
          -564.2825276017571,
          -550.5683354056827,
          -542.6434269099899,
          -536.680016896528,
          -523.5721039130897,
          -528.5475863810065,
          -524.4179394568337,
          -545.6282250781285,
          -533.3730529007813,
          -534.2624779220569,
          -525.6251087762427,
          -525.5195397355648,
          -532.755415087124,
          -541.4937212554834,
          -551.5168907261365,
          -552.4786228634398,
          -559.8096899426403,
          -541.9032263506379,
          -553.709841818928,
          -538.2745865674677,
          -540.9414065283165,
          -537.7337183633496,
          -542.9602812740363,
          -538.6009919463395,
          -547.0965176587559,
          -562.7289342558809,
          -565.265045934441,
          -589.5541717432534,
          -546.009613497256,
          -546.3290673560333,
          -555.4514779173965,
          -552.8210920656475,
          -568.2041200753961,
          -539.572854928165,
          -529.9798895667582,
          -524.4006428239665,
          -513.1418726440775,
          -526.8784011656536,
          -511.4943020704501,
          -523.6499939333281,
          -529.3959253090378,
          -545.6307760806526,
          -568.6967538086307,
          -537.7117491132233,
          -535.2375925682195,
          -536.937113471349,
          -547.4260832832722,
          -562.6605948410079,
          -538.3904026300215,
          -528.7175001749434,
          -520.7919255777119,
          -518.3286119822783,
          -516.8300361976277,
          -517.2052422410396,
          -519.1443408909485,
          -522.7268746919399,
          -527.4848897041089,
          -532.9404645993994,
          -544.8796436644359,
          -578.9432788296773,
          -542.8491129968698,
          -540.7222724960882,
          -532.9188938312144,
          -535.6526817605327,
          -538.4898051294566,
          -532.7545461311626,
          -523.2390335787921,
          -511.21825481250306,
          -500.109286759625,
          138.15510557964274,
          -500.1100919120575,
          -511.216945656827,
          -523.229557350693,
          -532.7154996155535,
          -538.4747471170576,
          -535.6910480015162,
          -532.9136090918792,
          -540.7612362121611,
          -542.8659621036976,
          -578.9704912329865,
          -544.877137749743,
          -532.945012121961,
          -527.4854265706444,
          -522.7071647216109,
          -519.1455947644167,
          -517.1775603709209,
          -516.8334551254886,
          -518.3310262148591,
          -520.7956382795179,
          -528.7225714252543,
          -538.3724563036318,
          -562.7882655763568,
          -547.4454547668935,
          -537.0108183853292,
          -535.2330247171594,
          -537.7102732808588,
          -568.7394561953378,
          -545.5713775142551,
          -529.4027657256539,
          -523.6491205096256,
          -511.49067194605755,
          -526.8465960569403,
          -513.1417480345187,
          -524.3921830256797,
          -529.9865844267343,
          -539.5500232147521,
          -568.175243191225,
          -552.7972038567885,
          -555.441896135222,
          -546.4050174335413,
          -546.0179876669898,
          -589.1531153359603,
          -565.2538313055617,
          -562.8305613352015,
          -547.0999084273599,
          -538.6360853287642,
          -542.9569368252687,
          -537.7728590677559,
          -540.9482566298815,
          -538.2974529910555,
          -553.7251422513011,
          -541.9334585944227,
          -559.796336948651,
          -552.4887453149975,
          -551.4854790308715,
          -541.5605920016902,
          -532.7670893664693,
          -525.5066881721383,
          -525.6266017147557,
          -534.2189101222435,
          -533.369830327247,
          -545.6689415546001,
          -524.4180866541722,
          -528.5345280828416,
          -523.5686972227871,
          -536.696576485182,
          -542.6372885327073,
          -550.5410370945314,
          -564.3417211682217,
          -566.1096647227963,
          -553.7186233195605,
          -558.0246208174372,
          -560.8603322966117,
          -557.7596737330911,
          -565.6829672575959,
          -558.0905256714138,
          -570.279480814924,
          -566.3841566722834,
          -558.8032158877378,
          -557.774605563043,
          -544.4123214336503,
          -545.6115720882099,
          -545.7240199609947,
          -544.1303758907584,
          -550.170943381171,
          -574.4606457893088,
          -566.2842418001329,
          -564.3422329926883,
          -560.1604988144877,
          -555.9521295572905,
          -566.44706429988,
          -565.2028635032711,
          -559.5047496952794,
          -548.0089755680613,
          -534.1734555282461,
          -551.467378300083,
          -536.6267751414389,
          -544.9229129589685,
          -554.3883572728017,
          -553.3273598867802,
          -571.2589956392073,
          -574.2408296985049,
          -586.5350538854519,
          -563.4467933247477,
          -562.1691964230531,
          -572.1211315660778,
          -568.2968341594856,
          -563.7267604242448,
          -559.3660275751189,
          -571.1675386953859,
          -555.6255199932224,
          -564.3120211090768,
          -561.5313417236116,
          -543.6592605354609,
          -537.4603136739723,
          -550.0341649501876,
          -525.4097173592012,
          -548.253211992914,
          -540.1892293470145,
          -554.0186108635382,
          -578.4833183543924,
          -561.4251425483569,
          -556.8854679662409,
          -553.7672919947371,
          -578.8686476970616,
          -557.2168455477896,
          -557.4767909374228,
          -531.7250343703214,
          -539.708952394712,
          -547.5607203727374,
          -566.4813493972265,
          -583.7817557595774,
          -559.5319442797374,
          -556.6192506486652,
          -589.1436635736142,
          -628.3906817801724,
          -570.7405153105806,
          -559.060630741726,
          -575.7722429652842,
          -570.8820069845658,
          -574.8337639156426,
          -602.4308861392967,
          -569.1100145862279,
          -563.6861864482744,
          -567.141340543051,
          -563.0333459138236,
          -555.5720404263487,
          -552.543719246793,
          -551.0844843236396,
          -603.5577537926889,
          -572.4303189671248,
          -583.9864427360798,
          -570.1533814777629,
          -569.7000329721338,
          -570.6172089600092,
          -568.2598338165737,
          -585.5505276655964,
          -565.727967525359,
          -549.9617397888801,
          -559.0432731052914,
          -547.7579335668967,
          -553.3066904857005,
          -565.6603860959942,
          -556.2164170014589,
          -568.4918671451644,
          -576.9610661700627,
          -574.4557421452762,
          -575.6586956782669,
          -565.2827271071249,
          -570.0484311816714,
          -565.0908511592393,
          -559.6386742537463,
          -553.6073126232177,
          -559.4075361740005,
          -532.2643746220423,
          -532.0394998122579,
          -555.6651539268339,
          -528.088770794376,
          -545.1867362384932,
          -546.5593618610318,
          -560.4397100258367,
          -552.7445860138066,
          -565.9053333176814,
          -568.4915041648278,
          -565.8814205579797,
          -565.302017279521,
          -564.104091061862,
          -567.8555542472686,
          -555.3156258789987,
          -562.3917996740173,
          -544.1632900627302,
          -545.2926263108379,
          -549.0900630435474,
          -586.3451596952941,
          -561.9839726296544,
          -586.6777279048617,
          -622.0085208892278,
          -591.6583183326239,
          -563.5732732773054
         ]
        }
       ],
       "layout": {
        "autosize": true,
        "template": {
         "data": {
          "bar": [
           {
            "error_x": {
             "color": "#2a3f5f"
            },
            "error_y": {
             "color": "#2a3f5f"
            },
            "marker": {
             "line": {
              "color": "#E5ECF6",
              "width": 0.5
             }
            },
            "type": "bar"
           }
          ],
          "barpolar": [
           {
            "marker": {
             "line": {
              "color": "#E5ECF6",
              "width": 0.5
             }
            },
            "type": "barpolar"
           }
          ],
          "carpet": [
           {
            "aaxis": {
             "endlinecolor": "#2a3f5f",
             "gridcolor": "white",
             "linecolor": "white",
             "minorgridcolor": "white",
             "startlinecolor": "#2a3f5f"
            },
            "baxis": {
             "endlinecolor": "#2a3f5f",
             "gridcolor": "white",
             "linecolor": "white",
             "minorgridcolor": "white",
             "startlinecolor": "#2a3f5f"
            },
            "type": "carpet"
           }
          ],
          "choropleth": [
           {
            "colorbar": {
             "outlinewidth": 0,
             "ticks": ""
            },
            "type": "choropleth"
           }
          ],
          "contour": [
           {
            "colorbar": {
             "outlinewidth": 0,
             "ticks": ""
            },
            "colorscale": [
             [
              0,
              "#0d0887"
             ],
             [
              0.1111111111111111,
              "#46039f"
             ],
             [
              0.2222222222222222,
              "#7201a8"
             ],
             [
              0.3333333333333333,
              "#9c179e"
             ],
             [
              0.4444444444444444,
              "#bd3786"
             ],
             [
              0.5555555555555556,
              "#d8576b"
             ],
             [
              0.6666666666666666,
              "#ed7953"
             ],
             [
              0.7777777777777778,
              "#fb9f3a"
             ],
             [
              0.8888888888888888,
              "#fdca26"
             ],
             [
              1,
              "#f0f921"
             ]
            ],
            "type": "contour"
           }
          ],
          "contourcarpet": [
           {
            "colorbar": {
             "outlinewidth": 0,
             "ticks": ""
            },
            "type": "contourcarpet"
           }
          ],
          "heatmap": [
           {
            "colorbar": {
             "outlinewidth": 0,
             "ticks": ""
            },
            "colorscale": [
             [
              0,
              "#0d0887"
             ],
             [
              0.1111111111111111,
              "#46039f"
             ],
             [
              0.2222222222222222,
              "#7201a8"
             ],
             [
              0.3333333333333333,
              "#9c179e"
             ],
             [
              0.4444444444444444,
              "#bd3786"
             ],
             [
              0.5555555555555556,
              "#d8576b"
             ],
             [
              0.6666666666666666,
              "#ed7953"
             ],
             [
              0.7777777777777778,
              "#fb9f3a"
             ],
             [
              0.8888888888888888,
              "#fdca26"
             ],
             [
              1,
              "#f0f921"
             ]
            ],
            "type": "heatmap"
           }
          ],
          "heatmapgl": [
           {
            "colorbar": {
             "outlinewidth": 0,
             "ticks": ""
            },
            "colorscale": [
             [
              0,
              "#0d0887"
             ],
             [
              0.1111111111111111,
              "#46039f"
             ],
             [
              0.2222222222222222,
              "#7201a8"
             ],
             [
              0.3333333333333333,
              "#9c179e"
             ],
             [
              0.4444444444444444,
              "#bd3786"
             ],
             [
              0.5555555555555556,
              "#d8576b"
             ],
             [
              0.6666666666666666,
              "#ed7953"
             ],
             [
              0.7777777777777778,
              "#fb9f3a"
             ],
             [
              0.8888888888888888,
              "#fdca26"
             ],
             [
              1,
              "#f0f921"
             ]
            ],
            "type": "heatmapgl"
           }
          ],
          "histogram": [
           {
            "marker": {
             "colorbar": {
              "outlinewidth": 0,
              "ticks": ""
             }
            },
            "type": "histogram"
           }
          ],
          "histogram2d": [
           {
            "colorbar": {
             "outlinewidth": 0,
             "ticks": ""
            },
            "colorscale": [
             [
              0,
              "#0d0887"
             ],
             [
              0.1111111111111111,
              "#46039f"
             ],
             [
              0.2222222222222222,
              "#7201a8"
             ],
             [
              0.3333333333333333,
              "#9c179e"
             ],
             [
              0.4444444444444444,
              "#bd3786"
             ],
             [
              0.5555555555555556,
              "#d8576b"
             ],
             [
              0.6666666666666666,
              "#ed7953"
             ],
             [
              0.7777777777777778,
              "#fb9f3a"
             ],
             [
              0.8888888888888888,
              "#fdca26"
             ],
             [
              1,
              "#f0f921"
             ]
            ],
            "type": "histogram2d"
           }
          ],
          "histogram2dcontour": [
           {
            "colorbar": {
             "outlinewidth": 0,
             "ticks": ""
            },
            "colorscale": [
             [
              0,
              "#0d0887"
             ],
             [
              0.1111111111111111,
              "#46039f"
             ],
             [
              0.2222222222222222,
              "#7201a8"
             ],
             [
              0.3333333333333333,
              "#9c179e"
             ],
             [
              0.4444444444444444,
              "#bd3786"
             ],
             [
              0.5555555555555556,
              "#d8576b"
             ],
             [
              0.6666666666666666,
              "#ed7953"
             ],
             [
              0.7777777777777778,
              "#fb9f3a"
             ],
             [
              0.8888888888888888,
              "#fdca26"
             ],
             [
              1,
              "#f0f921"
             ]
            ],
            "type": "histogram2dcontour"
           }
          ],
          "mesh3d": [
           {
            "colorbar": {
             "outlinewidth": 0,
             "ticks": ""
            },
            "type": "mesh3d"
           }
          ],
          "parcoords": [
           {
            "line": {
             "colorbar": {
              "outlinewidth": 0,
              "ticks": ""
             }
            },
            "type": "parcoords"
           }
          ],
          "pie": [
           {
            "automargin": true,
            "type": "pie"
           }
          ],
          "scatter": [
           {
            "marker": {
             "colorbar": {
              "outlinewidth": 0,
              "ticks": ""
             }
            },
            "type": "scatter"
           }
          ],
          "scatter3d": [
           {
            "line": {
             "colorbar": {
              "outlinewidth": 0,
              "ticks": ""
             }
            },
            "marker": {
             "colorbar": {
              "outlinewidth": 0,
              "ticks": ""
             }
            },
            "type": "scatter3d"
           }
          ],
          "scattercarpet": [
           {
            "marker": {
             "colorbar": {
              "outlinewidth": 0,
              "ticks": ""
             }
            },
            "type": "scattercarpet"
           }
          ],
          "scattergeo": [
           {
            "marker": {
             "colorbar": {
              "outlinewidth": 0,
              "ticks": ""
             }
            },
            "type": "scattergeo"
           }
          ],
          "scattergl": [
           {
            "marker": {
             "colorbar": {
              "outlinewidth": 0,
              "ticks": ""
             }
            },
            "type": "scattergl"
           }
          ],
          "scattermapbox": [
           {
            "marker": {
             "colorbar": {
              "outlinewidth": 0,
              "ticks": ""
             }
            },
            "type": "scattermapbox"
           }
          ],
          "scatterpolar": [
           {
            "marker": {
             "colorbar": {
              "outlinewidth": 0,
              "ticks": ""
             }
            },
            "type": "scatterpolar"
           }
          ],
          "scatterpolargl": [
           {
            "marker": {
             "colorbar": {
              "outlinewidth": 0,
              "ticks": ""
             }
            },
            "type": "scatterpolargl"
           }
          ],
          "scatterternary": [
           {
            "marker": {
             "colorbar": {
              "outlinewidth": 0,
              "ticks": ""
             }
            },
            "type": "scatterternary"
           }
          ],
          "surface": [
           {
            "colorbar": {
             "outlinewidth": 0,
             "ticks": ""
            },
            "colorscale": [
             [
              0,
              "#0d0887"
             ],
             [
              0.1111111111111111,
              "#46039f"
             ],
             [
              0.2222222222222222,
              "#7201a8"
             ],
             [
              0.3333333333333333,
              "#9c179e"
             ],
             [
              0.4444444444444444,
              "#bd3786"
             ],
             [
              0.5555555555555556,
              "#d8576b"
             ],
             [
              0.6666666666666666,
              "#ed7953"
             ],
             [
              0.7777777777777778,
              "#fb9f3a"
             ],
             [
              0.8888888888888888,
              "#fdca26"
             ],
             [
              1,
              "#f0f921"
             ]
            ],
            "type": "surface"
           }
          ],
          "table": [
           {
            "cells": {
             "fill": {
              "color": "#EBF0F8"
             },
             "line": {
              "color": "white"
             }
            },
            "header": {
             "fill": {
              "color": "#C8D4E3"
             },
             "line": {
              "color": "white"
             }
            },
            "type": "table"
           }
          ]
         },
         "layout": {
          "annotationdefaults": {
           "arrowcolor": "#2a3f5f",
           "arrowhead": 0,
           "arrowwidth": 1
          },
          "autotypenumbers": "strict",
          "coloraxis": {
           "colorbar": {
            "outlinewidth": 0,
            "ticks": ""
           }
          },
          "colorscale": {
           "diverging": [
            [
             0,
             "#8e0152"
            ],
            [
             0.1,
             "#c51b7d"
            ],
            [
             0.2,
             "#de77ae"
            ],
            [
             0.3,
             "#f1b6da"
            ],
            [
             0.4,
             "#fde0ef"
            ],
            [
             0.5,
             "#f7f7f7"
            ],
            [
             0.6,
             "#e6f5d0"
            ],
            [
             0.7,
             "#b8e186"
            ],
            [
             0.8,
             "#7fbc41"
            ],
            [
             0.9,
             "#4d9221"
            ],
            [
             1,
             "#276419"
            ]
           ],
           "sequential": [
            [
             0,
             "#0d0887"
            ],
            [
             0.1111111111111111,
             "#46039f"
            ],
            [
             0.2222222222222222,
             "#7201a8"
            ],
            [
             0.3333333333333333,
             "#9c179e"
            ],
            [
             0.4444444444444444,
             "#bd3786"
            ],
            [
             0.5555555555555556,
             "#d8576b"
            ],
            [
             0.6666666666666666,
             "#ed7953"
            ],
            [
             0.7777777777777778,
             "#fb9f3a"
            ],
            [
             0.8888888888888888,
             "#fdca26"
            ],
            [
             1,
             "#f0f921"
            ]
           ],
           "sequentialminus": [
            [
             0,
             "#0d0887"
            ],
            [
             0.1111111111111111,
             "#46039f"
            ],
            [
             0.2222222222222222,
             "#7201a8"
            ],
            [
             0.3333333333333333,
             "#9c179e"
            ],
            [
             0.4444444444444444,
             "#bd3786"
            ],
            [
             0.5555555555555556,
             "#d8576b"
            ],
            [
             0.6666666666666666,
             "#ed7953"
            ],
            [
             0.7777777777777778,
             "#fb9f3a"
            ],
            [
             0.8888888888888888,
             "#fdca26"
            ],
            [
             1,
             "#f0f921"
            ]
           ]
          },
          "colorway": [
           "#636efa",
           "#EF553B",
           "#00cc96",
           "#ab63fa",
           "#FFA15A",
           "#19d3f3",
           "#FF6692",
           "#B6E880",
           "#FF97FF",
           "#FECB52"
          ],
          "font": {
           "color": "#2a3f5f"
          },
          "geo": {
           "bgcolor": "white",
           "lakecolor": "white",
           "landcolor": "#E5ECF6",
           "showlakes": true,
           "showland": true,
           "subunitcolor": "white"
          },
          "hoverlabel": {
           "align": "left"
          },
          "hovermode": "closest",
          "mapbox": {
           "style": "light"
          },
          "paper_bgcolor": "white",
          "plot_bgcolor": "#E5ECF6",
          "polar": {
           "angularaxis": {
            "gridcolor": "white",
            "linecolor": "white",
            "ticks": ""
           },
           "bgcolor": "#E5ECF6",
           "radialaxis": {
            "gridcolor": "white",
            "linecolor": "white",
            "ticks": ""
           }
          },
          "scene": {
           "xaxis": {
            "backgroundcolor": "#E5ECF6",
            "gridcolor": "white",
            "gridwidth": 2,
            "linecolor": "white",
            "showbackground": true,
            "ticks": "",
            "zerolinecolor": "white"
           },
           "yaxis": {
            "backgroundcolor": "#E5ECF6",
            "gridcolor": "white",
            "gridwidth": 2,
            "linecolor": "white",
            "showbackground": true,
            "ticks": "",
            "zerolinecolor": "white"
           },
           "zaxis": {
            "backgroundcolor": "#E5ECF6",
            "gridcolor": "white",
            "gridwidth": 2,
            "linecolor": "white",
            "showbackground": true,
            "ticks": "",
            "zerolinecolor": "white"
           }
          },
          "shapedefaults": {
           "line": {
            "color": "#2a3f5f"
           }
          },
          "ternary": {
           "aaxis": {
            "gridcolor": "white",
            "linecolor": "white",
            "ticks": ""
           },
           "baxis": {
            "gridcolor": "white",
            "linecolor": "white",
            "ticks": ""
           },
           "bgcolor": "#E5ECF6",
           "caxis": {
            "gridcolor": "white",
            "linecolor": "white",
            "ticks": ""
           }
          },
          "title": {
           "x": 0.05
          },
          "xaxis": {
           "automargin": true,
           "gridcolor": "white",
           "linecolor": "white",
           "ticks": "",
           "title": {
            "standoff": 15
           },
           "zerolinecolor": "white",
           "zerolinewidth": 2
          },
          "yaxis": {
           "automargin": true,
           "gridcolor": "white",
           "linecolor": "white",
           "ticks": "",
           "title": {
            "standoff": 15
           },
           "zerolinecolor": "white",
           "zerolinewidth": 2
          }
         }
        },
        "xaxis": {
         "autorange": true,
         "range": [
          -25000,
          24950
         ],
         "type": "linear"
        },
        "yaxis": {
         "autorange": true,
         "range": [
          -672.9797538151331,
          180.84641396884146
         ],
         "type": "linear"
        }
       }
      },
      "image/png": "[encoded data removed]",
      "text/html": [
       "<div>                            <div id=\"beda0297-10ac-40fe-a2a8-5c9424c8fa35\" class=\"plotly-graph-div\" style=\"height:525px; width:100%;\"></div>            <script type=\"text/javascript\">                require([\"plotly\"], function(Plotly) {                    window.PLOTLYENV=window.PLOTLYENV || {};                                    if (document.getElementById(\"beda0297-10ac-40fe-a2a8-5c9424c8fa35\")) {                    Plotly.newPlot(                        \"beda0297-10ac-40fe-a2a8-5c9424c8fa35\",                        [{\"type\": \"scatter\", \"x\": [0.0, 50.0, 100.0, 150.0, 200.0, 250.0, 300.0, 350.0, 400.0, 450.0, 500.0, 550.0, 600.0, 650.0, 700.0, 750.0, 800.0, 850.0, 900.0, 950.0, 1000.0, 1050.0, 1100.0, 1150.0, 1200.0, 1250.0, 1300.0, 1350.0, 1400.0, 1450.0, 1500.0, 1550.0, 1600.0, 1650.0, 1700.0, 1750.0, 1800.0, 1850.0, 1900.0, 1950.0, 2000.0, 2050.0, 2100.0, 2150.0, 2200.0, 2250.0, 2300.0, 2350.0, 2400.0, 2450.0, 2500.0, 2550.0, 2600.0, 2650.0, 2700.0, 2750.0, 2800.0, 2850.0, 2900.0, 2950.0, 3000.0, 3050.0, 3100.0, 3150.0, 3200.0, 3250.0, 3300.0, 3350.0, 3400.0, 3450.0, 3500.0, 3550.0, 3600.0, 3650.0, 3700.0, 3750.0, 3800.0, 3850.0, 3900.0, 3950.0, 4000.0, 4050.0, 4100.0, 4150.0, 4200.0, 4250.0, 4300.0, 4350.0, 4400.0, 4450.0, 4500.0, 4550.0, 4600.0, 4650.0, 4700.0, 4750.0, 4800.0, 4850.0, 4900.0, 4950.0, 5000.0, 5050.0, 5100.0, 5150.0, 5200.0, 5250.0, 5300.0, 5350.0, 5400.0, 5450.0, 5500.0, 5550.0, 5600.0, 5650.0, 5700.0, 5750.0, 5800.0, 5850.0, 5900.0, 5950.0, 6000.0, 6050.0, 6100.0, 6150.0, 6200.0, 6250.0, 6300.0, 6350.0, 6400.0, 6450.0, 6500.0, 6550.0, 6600.0, 6650.0, 6700.0, 6750.0, 6800.0, 6850.0, 6900.0, 6950.0, 7000.0, 7050.0, 7100.0, 7150.0, 7200.0, 7250.0, 7300.0, 7350.0, 7400.0, 7450.0, 7500.0, 7550.0, 7600.0, 7650.0, 7700.0, 7750.0, 7800.0, 7850.0, 7900.0, 7950.0, 8000.0, 8050.0, 8100.0, 8150.0, 8200.0, 8250.0, 8300.0, 8350.0, 8400.0, 8450.0, 8500.0, 8550.0, 8600.0, 8650.0, 8700.0, 8750.0, 8800.0, 8850.0, 8900.0, 8950.0, 9000.0, 9050.0, 9100.0, 9150.0, 9200.0, 9250.0, 9300.0, 9350.0, 9400.0, 9450.0, 9500.0, 9550.0, 9600.0, 9650.0, 9700.0, 9750.0, 9800.0, 9850.0, 9900.0, 9950.0, 10000.0, 10050.0, 10100.0, 10150.0, 10200.0, 10250.0, 10300.0, 10350.0, 10400.0, 10450.0, 10500.0, 10550.0, 10600.0, 10650.0, 10700.0, 10750.0, 10800.0, 10850.0, 10900.0, 10950.0, 11000.0, 11050.0, 11100.0, 11150.0, 11200.0, 11250.0, 11300.0, 11350.0, 11400.0, 11450.0, 11500.0, 11550.0, 11600.0, 11650.0, 11700.0, 11750.0, 11800.0, 11850.0, 11900.0, 11950.0, 12000.0, 12050.0, 12100.0, 12150.0, 12200.0, 12250.0, 12300.0, 12350.0, 12400.0, 12450.0, 12500.0, 12550.0, 12600.0, 12650.0, 12700.0, 12750.0, 12800.0, 12850.0, 12900.0, 12950.0, 13000.0, 13050.0, 13100.0, 13150.0, 13200.0, 13250.0, 13300.0, 13350.0, 13400.0, 13450.0, 13500.0, 13550.0, 13600.0, 13650.0, 13700.0, 13750.0, 13800.0, 13850.0, 13900.0, 13950.0, 14000.0, 14050.0, 14100.0, 14150.0, 14200.0, 14250.0, 14300.0, 14350.0, 14400.0, 14450.0, 14500.0, 14550.0, 14600.0, 14650.0, 14700.0, 14750.0, 14800.0, 14850.0, 14900.0, 14950.0, 15000.0, 15050.0, 15100.0, 15150.0, 15200.0, 15250.0, 15300.0, 15350.0, 15400.0, 15450.0, 15500.0, 15550.0, 15600.0, 15650.0, 15700.0, 15750.0, 15800.0, 15850.0, 15900.0, 15950.0, 16000.0, 16050.0, 16100.0, 16150.0, 16200.0, 16250.0, 16300.0, 16350.0, 16400.0, 16450.0, 16500.0, 16550.0, 16600.0, 16650.0, 16700.0, 16750.0, 16800.0, 16850.0, 16900.0, 16950.0, 17000.0, 17050.0, 17100.0, 17150.0, 17200.0, 17250.0, 17300.0, 17350.0, 17400.0, 17450.0, 17500.0, 17550.0, 17600.0, 17650.0, 17700.0, 17750.0, 17800.0, 17850.0, 17900.0, 17950.0, 18000.0, 18050.0, 18100.0, 18150.0, 18200.0, 18250.0, 18300.0, 18350.0, 18400.0, 18450.0, 18500.0, 18550.0, 18600.0, 18650.0, 18700.0, 18750.0, 18800.0, 18850.0, 18900.0, 18950.0, 19000.0, 19050.0, 19100.0, 19150.0, 19200.0, 19250.0, 19300.0, 19350.0, 19400.0, 19450.0, 19500.0, 19550.0, 19600.0, 19650.0, 19700.0, 19750.0, 19800.0, 19850.0, 19900.0, 19950.0, 20000.0, 20050.0, 20100.0, 20150.0, 20200.0, 20250.0, 20300.0, 20350.0, 20400.0, 20450.0, 20500.0, 20550.0, 20600.0, 20650.0, 20700.0, 20750.0, 20800.0, 20850.0, 20900.0, 20950.0, 21000.0, 21050.0, 21100.0, 21150.0, 21200.0, 21250.0, 21300.0, 21350.0, 21400.0, 21450.0, 21500.0, 21550.0, 21600.0, 21650.0, 21700.0, 21750.0, 21800.0, 21850.0, 21900.0, 21950.0, 22000.0, 22050.0, 22100.0, 22150.0, 22200.0, 22250.0, 22300.0, 22350.0, 22400.0, 22450.0, 22500.0, 22550.0, 22600.0, 22650.0, 22700.0, 22750.0, 22800.0, 22850.0, 22900.0, 22950.0, 23000.0, 23050.0, 23100.0, 23150.0, 23200.0, 23250.0, 23300.0, 23350.0, 23400.0, 23450.0, 23500.0, 23550.0, 23600.0, 23650.0, 23700.0, 23750.0, 23800.0, 23850.0, 23900.0, 23950.0, 24000.0, 24050.0, 24100.0, 24150.0, 24200.0, 24250.0, 24300.0, 24350.0, 24400.0, 24450.0, 24500.0, 24550.0, 24600.0, 24650.0, 24700.0, 24750.0, 24800.0, 24850.0, 24900.0, 24950.0, -25000.0, -24950.0, -24900.0, -24850.0, -24800.0, -24750.0, -24700.0, -24650.0, -24600.0, -24550.0, -24500.0, -24450.0, -24400.0, -24350.0, -24300.0, -24250.0, -24200.0, -24150.0, -24100.0, -24050.0, -24000.0, -23950.0, -23900.0, -23850.0, -23800.0, -23750.0, -23700.0, -23650.0, -23600.0, -23550.0, -23500.0, -23450.0, -23400.0, -23350.0, -23300.0, -23250.0, -23200.0, -23150.0, -23100.0, -23050.0, -23000.0, -22950.0, -22900.0, -22850.0, -22800.0, -22750.0, -22700.0, -22650.0, -22600.0, -22550.0, -22500.0, -22450.0, -22400.0, -22350.0, -22300.0, -22250.0, -22200.0, -22150.0, -22100.0, -22050.0, -22000.0, -21950.0, -21900.0, -21850.0, -21800.0, -21750.0, -21700.0, -21650.0, -21600.0, -21550.0, -21500.0, -21450.0, -21400.0, -21350.0, -21300.0, -21250.0, -21200.0, -21150.0, -21100.0, -21050.0, -21000.0, -20950.0, -20900.0, -20850.0, -20800.0, -20750.0, -20700.0, -20650.0, -20600.0, -20550.0, -20500.0, -20450.0, -20400.0, -20350.0, -20300.0, -20250.0, -20200.0, -20150.0, -20100.0, -20050.0, -20000.0, -19950.0, -19900.0, -19850.0, -19800.0, -19750.0, -19700.0, -19650.0, -19600.0, -19550.0, -19500.0, -19450.0, -19400.0, -19350.0, -19300.0, -19250.0, -19200.0, -19150.0, -19100.0, -19050.0, -19000.0, -18950.0, -18900.0, -18850.0, -18800.0, -18750.0, -18700.0, -18650.0, -18600.0, -18550.0, -18500.0, -18450.0, -18400.0, -18350.0, -18300.0, -18250.0, -18200.0, -18150.0, -18100.0, -18050.0, -18000.0, -17950.0, -17900.0, -17850.0, -17800.0, -17750.0, -17700.0, -17650.0, -17600.0, -17550.0, -17500.0, -17450.0, -17400.0, -17350.0, -17300.0, -17250.0, -17200.0, -17150.0, -17100.0, -17050.0, -17000.0, -16950.0, -16900.0, -16850.0, -16800.0, -16750.0, -16700.0, -16650.0, -16600.0, -16550.0, -16500.0, -16450.0, -16400.0, -16350.0, -16300.0, -16250.0, -16200.0, -16150.0, -16100.0, -16050.0, -16000.0, -15950.0, -15900.0, -15850.0, -15800.0, -15750.0, -15700.0, -15650.0, -15600.0, -15550.0, -15500.0, -15450.0, -15400.0, -15350.0, -15300.0, -15250.0, -15200.0, -15150.0, -15100.0, -15050.0, -15000.0, -14950.0, -14900.0, -14850.0, -14800.0, -14750.0, -14700.0, -14650.0, -14600.0, -14550.0, -14500.0, -14450.0, -14400.0, -14350.0, -14300.0, -14250.0, -14200.0, -14150.0, -14100.0, -14050.0, -14000.0, -13950.0, -13900.0, -13850.0, -13800.0, -13750.0, -13700.0, -13650.0, -13600.0, -13550.0, -13500.0, -13450.0, -13400.0, -13350.0, -13300.0, -13250.0, -13200.0, -13150.0, -13100.0, -13050.0, -13000.0, -12950.0, -12900.0, -12850.0, -12800.0, -12750.0, -12700.0, -12650.0, -12600.0, -12550.0, -12500.0, -12450.0, -12400.0, -12350.0, -12300.0, -12250.0, -12200.0, -12150.0, -12100.0, -12050.0, -12000.0, -11950.0, -11900.0, -11850.0, -11800.0, -11750.0, -11700.0, -11650.0, -11600.0, -11550.0, -11500.0, -11450.0, -11400.0, -11350.0, -11300.0, -11250.0, -11200.0, -11150.0, -11100.0, -11050.0, -11000.0, -10950.0, -10900.0, -10850.0, -10800.0, -10750.0, -10700.0, -10650.0, -10600.0, -10550.0, -10500.0, -10450.0, -10400.0, -10350.0, -10300.0, -10250.0, -10200.0, -10150.0, -10100.0, -10050.0, -10000.0, -9950.0, -9900.0, -9850.0, -9800.0, -9750.0, -9700.0, -9650.0, -9600.0, -9550.0, -9500.0, -9450.0, -9400.0, -9350.0, -9300.0, -9250.0, -9200.0, -9150.0, -9100.0, -9050.0, -9000.0, -8950.0, -8900.0, -8850.0, -8800.0, -8750.0, -8700.0, -8650.0, -8600.0, -8550.0, -8500.0, -8450.0, -8400.0, -8350.0, -8300.0, -8250.0, -8200.0, -8150.0, -8100.0, -8050.0, -8000.0, -7950.0, -7900.0, -7850.0, -7800.0, -7750.0, -7700.0, -7650.0, -7600.0, -7550.0, -7500.0, -7450.0, -7400.0, -7350.0, -7300.0, -7250.0, -7200.0, -7150.0, -7100.0, -7050.0, -7000.0, -6950.0, -6900.0, -6850.0, -6800.0, -6750.0, -6700.0, -6650.0, -6600.0, -6550.0, -6500.0, -6450.0, -6400.0, -6350.0, -6300.0, -6250.0, -6200.0, -6150.0, -6100.0, -6050.0, -6000.0, -5950.0, -5900.0, -5850.0, -5800.0, -5750.0, -5700.0, -5650.0, -5600.0, -5550.0, -5500.0, -5450.0, -5400.0, -5350.0, -5300.0, -5250.0, -5200.0, -5150.0, -5100.0, -5050.0, -5000.0, -4950.0, -4900.0, -4850.0, -4800.0, -4750.0, -4700.0, -4650.0, -4600.0, -4550.0, -4500.0, -4450.0, -4400.0, -4350.0, -4300.0, -4250.0, -4200.0, -4150.0, -4100.0, -4050.0, -4000.0, -3950.0, -3900.0, -3850.0, -3800.0, -3750.0, -3700.0, -3650.0, -3600.0, -3550.0, -3500.0, -3450.0, -3400.0, -3350.0, -3300.0, -3250.0, -3200.0, -3150.0, -3100.0, -3050.0, -3000.0, -2950.0, -2900.0, -2850.0, -2800.0, -2750.0, -2700.0, -2650.0, -2600.0, -2550.0, -2500.0, -2450.0, -2400.0, -2350.0, -2300.0, -2250.0, -2200.0, -2150.0, -2100.0, -2050.0, -2000.0, -1950.0, -1900.0, -1850.0, -1800.0, -1750.0, -1700.0, -1650.0, -1600.0, -1550.0, -1500.0, -1450.0, -1400.0, -1350.0, -1300.0, -1250.0, -1200.0, -1150.0, -1100.0, -1050.0, -1000.0, -950.0, -900.0, -850.0, -800.0, -750.0, -700.0, -650.0, -600.0, -550.0, -500.0, -450.0, -400.0, -350.0, -300.0, -250.0, -200.0, -150.0, -100.0, -50.0], \"y\": [-567.9506151079809, -560.5559274680801, -581.7167089981502, -562.2193206178989, -566.4175471129677, -566.8147072634405, -566.9260415135282, -586.8863283711897, -580.8031534763994, -556.5409979139649, -567.1929583228839, -555.2400125920196, -552.7441677287172, -555.2101638786011, -588.4430202478063, -555.496676286356, -567.2490133662457, -573.2577056185995, -565.841271959484, -559.2757784847518, -564.6133605494372, -590.5794729346732, -575.3810578090142, -548.3304870155554, -567.4393350871444, -544.2334373198967, -558.171262995295, -574.4011716355585, -548.7615781477983, -543.2191976156809, -566.5122657399849, -560.6853635718301, -532.9889061619879, -520.5371534751735, -510.2892431372646, -515.537167147433, -513.0175938956374, -514.5589989103946, -526.5678359225625, -542.221533084617, -577.830282733005, -551.186255178561, -546.1499275369804, -557.7936293255816, -575.5543812259314, -581.6492327732535, -549.5431298871315, -550.4612548458155, -581.6551507851345, -598.0369951597503, -582.8981499784848, -555.4989204429742, -565.105059727485, -567.9896405509114, -566.0169754728896, -567.8613980150384, -554.3157688418271, -552.9794090141369, -564.0312818564372, -565.0056442053274, -569.7899778724274, -571.1111583277927, -564.4566918771163, -568.2814080403275, -575.5257052004706, -602.6341497181853, -557.0156662959077, -568.2784932539864, -597.2635264982323, -570.0678890085542, -580.0268339768205, -585.2718373692089, -601.7921928479234, -577.8179447762614, -593.5479804794331, -562.2129990368628, -562.3440530359809, -552.3869751674242, -571.618750804537, -562.6747461954853, -591.9360787233462, -569.9730642502878, -568.6138358405567, -579.4859556037566, -560.6169839813512, -569.2180202129696, -561.9794761503398, -560.977764918081, -568.221377943783, -578.9258535122071, -571.8835073282391, -551.9979334585165, -556.8791299311207, -538.6710760042318, -527.6281034686613, -543.6343536045906, -537.6365897769879, -543.0987468580588, -562.0825801723626, -573.6340648946863, -592.9384837474236, -561.5600403912505, -570.6914542926123, -595.943124712903, -595.5528462446047, -564.8551474906909, -559.6312527317984, -582.207166685614, -578.6807498705558, -590.7880359229314, -563.3795968784113, -559.2100017347108, -589.6161073898477, -577.9071132226561, -576.481026812856, -568.4120765633977, -563.8428435335369, -566.2513221079586, -605.95724516937, -553.5512918434049, -583.6420307045001, -586.3060130289604, -594.1677142614524, -559.5165824669011, -566.1316425359487, -564.984735288464, -574.2923302299233, -580.5874122663307, -574.1721358195883, -588.9279906414984, -583.8973208170471, -570.1399863005936, -600.8354043529204, -608.202115855871, -594.3573222541735, -596.1809878138808, -590.6847054145995, -574.4727412466843, -577.8009361839682, -570.1094390640089, -562.000240550097, -561.8312142310838, -563.7886196793805, -630.258094082683, -563.5206297191661, -573.8232238838016, -582.1719569595126, -565.2700451699747, -571.7396670882757, -557.7873794802457, -551.6592741719154, -576.867965507201, -530.1527560364499, -534.8141054028595, -577.476620838425, -543.5670248496878, -584.2718820244828, -559.1126432972808, -561.3362013689336, -563.8999392299287, -551.6517161461152, -588.7306549366475, -580.3428362506672, -612.0234446751244, -557.4482041969862, -569.2848712468269, -587.2646689601406, -571.0730828306295, -596.2372429543627, -581.2450559817693, -603.5138322780796, -578.5860022418503, -589.1550371461046, -570.9171731366309, -555.6097666713889, -558.6085996596196, -576.6678236857637, -578.3264742504992, -576.3186603739313, -566.9676713291909, -578.28977491071, -570.3808044523784, -572.6908860209163, -573.2164975272145, -564.1241153060917, -570.5496984128574, -564.9676009668849, -611.7153997425539, -568.9281884330238, -568.0662197901147, -568.0950312225632, -568.8708560740987, -578.9675657136033, -587.8839209304432, -589.5520125773077, -564.459710573408, -574.8458089222474, -573.1141443215397, -576.4221880102461, -596.246094097738, -585.1769222019519, -573.2947536936781, -572.6657716625225, -560.3195557124824, -556.6679769998324, -551.4385950622684, -561.7392292248772, -570.7995824905104, -560.2450479997149, -564.9756324714285, -542.3756224881013, -528.0389317945303, -542.0060489298252, -541.367919703992, -542.95321005255, -551.1641054910303, -568.7079470144563, -618.497275193507, -564.7379340908701, -570.5613786679236, -575.8270463087873, -589.9059702736384, -566.300023535223, -563.6327105767573, -561.6439111867513, -582.7824838245818, -571.9431681756332, -560.6479187377266, -585.5661698928302, -575.1584582983126, -569.9023740807987, -569.7177978086083, -566.9166281646975, -582.0294419379643, -577.7718041941127, -577.1868536068507, -567.6827776499849, -560.2396249510518, -563.1314019937931, -558.4225055405255, -566.154162593528, -561.183518910864, -566.7608483154484, -591.8074306617411, -565.3967197740495, -568.8713118480802, -553.7391731575431, -567.5584612340052, -593.5329193373908, -575.2731939479157, -570.2805732616569, -581.3859939121452, -582.9376246548936, -570.4798638647867, -559.6506060845979, -554.9519303314001, -565.8462381115269, -572.4614109900675, -564.1542255066684, -558.5785601525936, -570.5283852218644, -570.2500233165568, -553.6544248266298, -562.5263745354292, -544.8283977028644, -558.7690983282648, -577.484404907333, -536.8737820388421, -535.4343450433693, -516.0465368335848, -515.1287688610346, -527.9078866417767, -514.4660154402309, -533.3087986823957, -530.4219287725297, -548.4111183229699, -573.1028874880791, -540.9662366542104, -556.5111491895785, -563.334577464219, -556.1204096570792, -556.6296700075407, -551.227430109021, -567.2979864301565, -562.6447952536979, -563.4539921648476, -573.6857658834488, -560.7823391019102, -571.9722547055063, -596.5846016713881, -566.2784036137429, -571.6172653462772, -566.4678408497288, -573.5197921470169, -584.7471036972264, -578.0531117569335, -578.6871382796978, -568.1919333132064, -559.8892625204136, -589.3274909257536, -615.9700536625827, -589.2562629502016, -559.9644107702135, -568.0987470475732, -578.549609269299, -578.1213826467235, -585.1755652438967, -573.4464605740686, -566.439257306462, -571.6478755538591, -566.2572162219051, -596.7251976328417, -572.1109999504965, -560.7803041135246, -573.602743526388, -563.4956586014946, -562.4023813472484, -567.3140415154545, -551.2007067332928, -556.6103797220479, -556.6324799877443, -563.3328772243867, -556.4618973648139, -540.979615163981, -573.0744123427244, -548.4077070273191, -530.43103647783, -533.3133148666439, -514.4740997078922, -527.9098644979404, -515.1328922795416, -516.0393493415669, -535.4395078834305, -536.8744744403041, -577.5773290489717, -558.748188686984, -544.8207606768889, -562.5607433368498, -553.707848912966, -570.2336130161277, -570.3314652439607, -558.6141915566145, -564.3364983318054, -572.4597593328351, -565.8905874442604, -554.9692565445348, -559.6964465169241, -570.5085860291355, -582.8798901734718, -581.3109296796666, -570.3929582619252, -575.2034493778884, -593.6076976998659, -567.5134340652814, -553.8014193265883, -568.8708226009322, -565.4841514839613, -591.8865200962073, -566.6529588158805, -561.2112534635214, -566.0834229045596, -558.4075085656664, -563.022489343449, -560.2729102725347, -567.5881899270441, -576.9968978762159, -577.5830117692234, -582.0395821248255, -567.0532928964093, -569.6957744901451, -570.0562672606766, -575.209122581774, -585.7887756185532, -560.6955276274566, -571.6270649141535, -582.789704134472, -561.6056479573022, -563.6601444322371, -566.1285160521613, -589.8146973618011, -575.8292046890648, -570.5797312902475, -564.6198045109186, -619.809263870266, -568.8256292825848, -551.1517299651779, -542.9739835742662, -541.3597612054612, -541.9368610683849, -528.0439717078011, -542.3333838974663, -564.9412861239547, -560.5917571074759, -570.8045177787353, -561.8295737101214, -551.3944133165463, -556.6934521384903, -560.2842638947003, -572.8599714039225, -573.3564962918585, -586.4147191399117, -596.1111338838181, -576.2635888608658, -573.1654924869782, -575.0724854655062, -564.4269469895955, -589.5537613802828, -588.3176198829208, -578.8088334404013, -568.8350805468502, -568.1817035433916, -567.9959951952212, -568.8091393677123, -612.3757964049929, -565.1154309982558, -570.7004143422761, -564.1156478796977, -573.2232287570693, -572.6223366431075, -570.3953850064948, -578.0711866120054, -567.010904286543, -575.9666386522395, -578.3141034797997, -576.9628913821923, -558.6645342064628, -555.6156299711629, -570.8303657202164, -590.1158239107043, -578.6748481681365, -602.7571315500644, -581.2592805439689, -594.0434643820797, -571.0398869293109, -586.8043558597527, -569.5132498906062, -557.4321392705965, -611.2380255034465, -580.3652356537876, -588.7000989429677, -551.4975934889712, -563.9137271044829, -561.3323952416293, -559.0867877387786, -584.3663255110237, -543.5693020173684, -577.490037199782, -534.8286176932088, -530.1837691114565, -576.8350737397711, -551.6835723645703, -557.7721876000303, -571.5229328648048, -565.275924640633, -582.4333171914699, -573.929854275098, -563.4477492065612, -628.2565354075379, -564.0254627276589, -561.8205713417082, -562.223486129856, -570.1024620052981, -577.6634515858502, -574.5297716617877, -590.0875066091621, -596.1956783323864, -594.2049477317978, -608.5773691818206, -601.5928316856844, -570.3516183299231, -583.792398396714, -588.9117960985194, -573.9996613212373, -580.5252860209728, -574.3828933854645, -564.965228253914, -566.1875144740744, -559.4651258239629, -593.9927830722921, -586.2164244614085, -582.1496343599471, -553.5729394465161, -606.3566210651659, -566.2664109380632, -563.8007862144793, -568.3612352070726, -576.4889086787796, -577.8111585201602, -588.8481857037223, -559.2341300050462, -563.2869933334298, -590.876775594649, -578.8322554787403, -582.3390707074205, -559.6041719790572, -564.8892785636577, -596.5852406976725, -596.3888382044524, -570.5735388729438, -561.572490098141, -593.0391854483559, -573.6220464261364, -562.2253056669422, -543.1274724097173, -537.7099108509743, -543.6290695033362, -527.6218907024428, -538.6735523864298, -556.8509334079708, -552.0292057490401, -571.6678481545268, -578.9958448655078, -568.6055497654426, -560.9570497417267, -561.9727657059035, -569.2125777565851, -560.4927070722375, -579.5321432050544, -568.5363699898676, -569.9462255987343, -590.0079820790465, -562.6654084106683, -571.6394088931894, -552.3779948529209, -562.3570713390798, -562.1913272406009, -593.4764086119559, -577.823855588621, -601.1696783305913, -585.1783323566007, -579.877728330808, -570.0841914559462, -597.8138778814086, -568.2289837602243, -556.9750080760523, -602.4657239381838, -575.3116171697088, -568.2216998523132, -564.6572522519036, -571.0976814000329, -569.7000041250375, -565.071698486603, -563.9117196398521, -552.9928630967149, -554.5049186410647, -567.8542679438602, -566.0544591183224, -568.0349003877375, -565.0541644268164, -555.5067002229508, -582.9198270985419, -597.9644669410682, -581.467157959643, -550.4806308630223, -549.5274124011139, -581.6389349463242, -575.5357984097341, -557.7597228360603, -546.1312292799034, -551.1873845965035, -578.2651200929521, -542.2324732013227, -526.5525888809483, -514.556649055939, -513.0304442941137, -515.5345369319494, -510.29936421509007, -520.5368488633593, -532.9571118413354, -560.686826213134, -566.7721070489641, -543.2354002833664, -548.7912900570684, -574.315564300194, -558.2476559687038, -544.2354669286034, -567.869028603686, -548.3224239876218, -575.4773534992146, -590.5668027447936, -564.4450631989105, -559.2579016725653, -566.009571425084, -573.2146655738363, -567.1303298396613, -555.4358600133294, -589.0975813117127, -555.2581587661491, -552.8310519104555, -555.2897398228009, -567.347005123401, -556.4959652017185, -580.4520275231201, -586.7888406962267, -566.9660769206669, -566.8808529301392, -566.1450429035652, -562.2754930244479, -581.6319861186166, -560.5650383249747, -567.0125833475714, -563.5743182993103, -592.7424049011473, -621.6525227560073, -587.0135971243365, -562.0021677507929, -585.8781963173308, -549.1053491618395, -545.2141264202363, -544.1788816270899, -562.2460696440282, -555.3305397822307, -568.1216229816512, -564.1270175075032, -565.0694575442423, -565.8384108981502, -568.2927518483565, -565.9305073082802, -552.6929982971967, -560.4421274901949, -546.4954893363393, -545.1738379179754, -528.0756674604711, -555.6666155748256, -532.0247173408022, -532.2711468587646, -559.440410281626, -553.5678689361288, -559.3971073344863, -565.0736287318111, -570.1953814901568, -565.2749190852928, -575.8799197532326, -574.3715634707382, -576.3682846524403, -568.4340652375598, -556.0443976597567, -565.6800787565026, -553.3346886101726, -547.7176776366291, -558.7633812888389, -549.9501088623241, -565.7262005481049, -585.6004236259151, -568.1385065567299, -570.5047100133778, -569.5922675770018, -570.1623848019349, -583.3234117428939, -572.4332345057599, -603.6612351977159, -551.0709488714367, -552.4566121001617, -555.5910529284084, -563.0282079210776, -567.136232307986, -563.7925955194725, -569.1603471846734, -603.2827965656726, -574.8019076725434, -570.6564806172598, -575.8014163342291, -559.1071039153417, -570.6890055387421, -630.2884454259344, -589.0532639202247, -556.6648119216153, -559.53631185201, -583.6562660115079, -566.404569412218, -547.5371899710326, -539.6836845699453, -531.6875778560592, -557.4668032444529, -557.2968645905864, -578.8913658421199, -553.7684608531968, -556.9093905400974, -561.5075050298339, -578.4875082894162, -553.9941878924552, -540.1998118779618, -548.2270481067169, -525.4194594613357, -550.0643726588062, -537.4585675457279, -543.6582565837068, -561.5245566647563, -564.1792582625476, -555.6430416781161, -571.1561109077851, -559.331950987147, -563.8128517020359, -568.3176674391406, -571.8837523712584, -562.1779857755938, -563.5280465168115, -586.7303688258039, -574.300594951288, -571.2871877674411, -553.4125445302986, -554.3848215139977, -544.8904578946112, -536.6282918483441, -551.2979545588785, -534.1778195956216, -547.9934727016091, -559.5082971464667, -565.344316334835, -566.5311741522465, -555.9944152748296, -560.1790579072685, -564.3906113952735, -566.2714357457126, -574.5846323152851, -550.1606293033911, -544.0724893882887, -545.7271590218904, -545.6349082007847, -544.4092182635678, -557.3870779254243, -558.7636235113216, -566.3116399264477, -570.2757723987215, -557.971661844982, -565.7236405632189, -557.7561002241106, -560.9069670546377, -557.9612801719159, -553.7323806899615, -566.0040750301685, -564.2825276017571, -550.5683354056827, -542.6434269099899, -536.680016896528, -523.5721039130897, -528.5475863810065, -524.4179394568337, -545.6282250781285, -533.3730529007813, -534.2624779220569, -525.6251087762427, -525.5195397355648, -532.755415087124, -541.4937212554834, -551.5168907261365, -552.4786228634398, -559.8096899426403, -541.9032263506379, -553.709841818928, -538.2745865674677, -540.9414065283165, -537.7337183633496, -542.9602812740363, -538.6009919463395, -547.0965176587559, -562.7289342558809, -565.265045934441, -589.5541717432534, -546.009613497256, -546.3290673560333, -555.4514779173965, -552.8210920656475, -568.2041200753961, -539.572854928165, -529.9798895667582, -524.4006428239665, -513.1418726440775, -526.8784011656536, -511.4943020704501, -523.6499939333281, -529.3959253090378, -545.6307760806526, -568.6967538086307, -537.7117491132233, -535.2375925682195, -536.937113471349, -547.4260832832722, -562.6605948410079, -538.3904026300215, -528.7175001749434, -520.7919255777119, -518.3286119822783, -516.8300361976277, -517.2052422410396, -519.1443408909485, -522.7268746919399, -527.4848897041089, -532.9404645993994, -544.8796436644359, -578.9432788296773, -542.8491129968698, -540.7222724960882, -532.9188938312144, -535.6526817605327, -538.4898051294566, -532.7545461311626, -523.2390335787921, -511.21825481250306, -500.109286759625, 138.15510557964274, -500.1100919120575, -511.216945656827, -523.229557350693, -532.7154996155535, -538.4747471170576, -535.6910480015162, -532.9136090918792, -540.7612362121611, -542.8659621036976, -578.9704912329865, -544.877137749743, -532.945012121961, -527.4854265706444, -522.7071647216109, -519.1455947644167, -517.1775603709209, -516.8334551254886, -518.3310262148591, -520.7956382795179, -528.7225714252543, -538.3724563036318, -562.7882655763568, -547.4454547668935, -537.0108183853292, -535.2330247171594, -537.7102732808588, -568.7394561953378, -545.5713775142551, -529.4027657256539, -523.6491205096256, -511.49067194605755, -526.8465960569403, -513.1417480345187, -524.3921830256797, -529.9865844267343, -539.5500232147521, -568.175243191225, -552.7972038567885, -555.441896135222, -546.4050174335413, -546.0179876669898, -589.1531153359603, -565.2538313055617, -562.8305613352015, -547.0999084273599, -538.6360853287642, -542.9569368252687, -537.7728590677559, -540.9482566298815, -538.2974529910555, -553.7251422513011, -541.9334585944227, -559.796336948651, -552.4887453149975, -551.4854790308715, -541.5605920016902, -532.7670893664693, -525.5066881721383, -525.6266017147557, -534.2189101222435, -533.369830327247, -545.6689415546001, -524.4180866541722, -528.5345280828416, -523.5686972227871, -536.696576485182, -542.6372885327073, -550.5410370945314, -564.3417211682217, -566.1096647227963, -553.7186233195605, -558.0246208174372, -560.8603322966117, -557.7596737330911, -565.6829672575959, -558.0905256714138, -570.279480814924, -566.3841566722834, -558.8032158877378, -557.774605563043, -544.4123214336503, -545.6115720882099, -545.7240199609947, -544.1303758907584, -550.170943381171, -574.4606457893088, -566.2842418001329, -564.3422329926883, -560.1604988144877, -555.9521295572905, -566.44706429988, -565.2028635032711, -559.5047496952794, -548.0089755680613, -534.1734555282461, -551.467378300083, -536.6267751414389, -544.9229129589685, -554.3883572728017, -553.3273598867802, -571.2589956392073, -574.2408296985049, -586.5350538854519, -563.4467933247477, -562.1691964230531, -572.1211315660778, -568.2968341594856, -563.7267604242448, -559.3660275751189, -571.1675386953859, -555.6255199932224, -564.3120211090768, -561.5313417236116, -543.6592605354609, -537.4603136739723, -550.0341649501876, -525.4097173592012, -548.253211992914, -540.1892293470145, -554.0186108635382, -578.4833183543924, -561.4251425483569, -556.8854679662409, -553.7672919947371, -578.8686476970616, -557.2168455477896, -557.4767909374228, -531.7250343703214, -539.708952394712, -547.5607203727374, -566.4813493972265, -583.7817557595774, -559.5319442797374, -556.6192506486652, -589.1436635736142, -628.3906817801724, -570.7405153105806, -559.060630741726, -575.7722429652842, -570.8820069845658, -574.8337639156426, -602.4308861392967, -569.1100145862279, -563.6861864482744, -567.141340543051, -563.0333459138236, -555.5720404263487, -552.543719246793, -551.0844843236396, -603.5577537926889, -572.4303189671248, -583.9864427360798, -570.1533814777629, -569.7000329721338, -570.6172089600092, -568.2598338165737, -585.5505276655964, -565.727967525359, -549.9617397888801, -559.0432731052914, -547.7579335668967, -553.3066904857005, -565.6603860959942, -556.2164170014589, -568.4918671451644, -576.9610661700627, -574.4557421452762, -575.6586956782669, -565.2827271071249, -570.0484311816714, -565.0908511592393, -559.6386742537463, -553.6073126232177, -559.4075361740005, -532.2643746220423, -532.0394998122579, -555.6651539268339, -528.088770794376, -545.1867362384932, -546.5593618610318, -560.4397100258367, -552.7445860138066, -565.9053333176814, -568.4915041648278, -565.8814205579797, -565.302017279521, -564.104091061862, -567.8555542472686, -555.3156258789987, -562.3917996740173, -544.1632900627302, -545.2926263108379, -549.0900630435474, -586.3451596952941, -561.9839726296544, -586.6777279048617, -622.0085208892278, -591.6583183326239, -563.5732732773054]}],                        {\"template\": {\"data\": {\"bar\": [{\"error_x\": {\"color\": \"#2a3f5f\"}, \"error_y\": {\"color\": \"#2a3f5f\"}, \"marker\": {\"line\": {\"color\": \"#E5ECF6\", \"width\": 0.5}}, \"type\": \"bar\"}], \"barpolar\": [{\"marker\": {\"line\": {\"color\": \"#E5ECF6\", \"width\": 0.5}}, \"type\": \"barpolar\"}], \"carpet\": [{\"aaxis\": {\"endlinecolor\": \"#2a3f5f\", \"gridcolor\": \"white\", \"linecolor\": \"white\", \"minorgridcolor\": \"white\", \"startlinecolor\": \"#2a3f5f\"}, \"baxis\": {\"endlinecolor\": \"#2a3f5f\", \"gridcolor\": \"white\", \"linecolor\": \"white\", \"minorgridcolor\": \"white\", \"startlinecolor\": \"#2a3f5f\"}, \"type\": \"carpet\"}], \"choropleth\": [{\"colorbar\": {\"outlinewidth\": 0, \"ticks\": \"\"}, \"type\": \"choropleth\"}], \"contour\": [{\"colorbar\": {\"outlinewidth\": 0, \"ticks\": \"\"}, \"colorscale\": [[0.0, \"#0d0887\"], [0.1111111111111111, \"#46039f\"], [0.2222222222222222, \"#7201a8\"], [0.3333333333333333, \"#9c179e\"], [0.4444444444444444, \"#bd3786\"], [0.5555555555555556, \"#d8576b\"], [0.6666666666666666, \"#ed7953\"], [0.7777777777777778, \"#fb9f3a\"], [0.8888888888888888, \"#fdca26\"], [1.0, \"#f0f921\"]], \"type\": \"contour\"}], \"contourcarpet\": [{\"colorbar\": {\"outlinewidth\": 0, \"ticks\": \"\"}, \"type\": \"contourcarpet\"}], \"heatmap\": [{\"colorbar\": {\"outlinewidth\": 0, \"ticks\": \"\"}, \"colorscale\": [[0.0, \"#0d0887\"], [0.1111111111111111, \"#46039f\"], [0.2222222222222222, \"#7201a8\"], [0.3333333333333333, \"#9c179e\"], [0.4444444444444444, \"#bd3786\"], [0.5555555555555556, \"#d8576b\"], [0.6666666666666666, \"#ed7953\"], [0.7777777777777778, \"#fb9f3a\"], [0.8888888888888888, \"#fdca26\"], [1.0, \"#f0f921\"]], \"type\": \"heatmap\"}], \"heatmapgl\": [{\"colorbar\": {\"outlinewidth\": 0, \"ticks\": \"\"}, \"colorscale\": [[0.0, \"#0d0887\"], [0.1111111111111111, \"#46039f\"], [0.2222222222222222, \"#7201a8\"], [0.3333333333333333, \"#9c179e\"], [0.4444444444444444, \"#bd3786\"], [0.5555555555555556, \"#d8576b\"], [0.6666666666666666, \"#ed7953\"], [0.7777777777777778, \"#fb9f3a\"], [0.8888888888888888, \"#fdca26\"], [1.0, \"#f0f921\"]], \"type\": \"heatmapgl\"}], \"histogram\": [{\"marker\": {\"colorbar\": {\"outlinewidth\": 0, \"ticks\": \"\"}}, \"type\": \"histogram\"}], \"histogram2d\": [{\"colorbar\": {\"outlinewidth\": 0, \"ticks\": \"\"}, \"colorscale\": [[0.0, \"#0d0887\"], [0.1111111111111111, \"#46039f\"], [0.2222222222222222, \"#7201a8\"], [0.3333333333333333, \"#9c179e\"], [0.4444444444444444, \"#bd3786\"], [0.5555555555555556, \"#d8576b\"], [0.6666666666666666, \"#ed7953\"], [0.7777777777777778, \"#fb9f3a\"], [0.8888888888888888, \"#fdca26\"], [1.0, \"#f0f921\"]], \"type\": \"histogram2d\"}], \"histogram2dcontour\": [{\"colorbar\": {\"outlinewidth\": 0, \"ticks\": \"\"}, \"colorscale\": [[0.0, \"#0d0887\"], [0.1111111111111111, \"#46039f\"], [0.2222222222222222, \"#7201a8\"], [0.3333333333333333, \"#9c179e\"], [0.4444444444444444, \"#bd3786\"], [0.5555555555555556, \"#d8576b\"], [0.6666666666666666, \"#ed7953\"], [0.7777777777777778, \"#fb9f3a\"], [0.8888888888888888, \"#fdca26\"], [1.0, \"#f0f921\"]], \"type\": \"histogram2dcontour\"}], \"mesh3d\": [{\"colorbar\": {\"outlinewidth\": 0, \"ticks\": \"\"}, \"type\": \"mesh3d\"}], \"parcoords\": [{\"line\": {\"colorbar\": {\"outlinewidth\": 0, \"ticks\": \"\"}}, \"type\": \"parcoords\"}], \"pie\": [{\"automargin\": true, \"type\": \"pie\"}], \"scatter\": [{\"marker\": {\"colorbar\": {\"outlinewidth\": 0, \"ticks\": \"\"}}, \"type\": \"scatter\"}], \"scatter3d\": [{\"line\": {\"colorbar\": {\"outlinewidth\": 0, \"ticks\": \"\"}}, \"marker\": {\"colorbar\": {\"outlinewidth\": 0, \"ticks\": \"\"}}, \"type\": \"scatter3d\"}], \"scattercarpet\": [{\"marker\": {\"colorbar\": {\"outlinewidth\": 0, \"ticks\": \"\"}}, \"type\": \"scattercarpet\"}], \"scattergeo\": [{\"marker\": {\"colorbar\": {\"outlinewidth\": 0, \"ticks\": \"\"}}, \"type\": \"scattergeo\"}], \"scattergl\": [{\"marker\": {\"colorbar\": {\"outlinewidth\": 0, \"ticks\": \"\"}}, \"type\": \"scattergl\"}], \"scattermapbox\": [{\"marker\": {\"colorbar\": {\"outlinewidth\": 0, \"ticks\": \"\"}}, \"type\": \"scattermapbox\"}], \"scatterpolar\": [{\"marker\": {\"colorbar\": {\"outlinewidth\": 0, \"ticks\": \"\"}}, \"type\": \"scatterpolar\"}], \"scatterpolargl\": [{\"marker\": {\"colorbar\": {\"outlinewidth\": 0, \"ticks\": \"\"}}, \"type\": \"scatterpolargl\"}], \"scatterternary\": [{\"marker\": {\"colorbar\": {\"outlinewidth\": 0, \"ticks\": \"\"}}, \"type\": \"scatterternary\"}], \"surface\": [{\"colorbar\": {\"outlinewidth\": 0, \"ticks\": \"\"}, \"colorscale\": [[0.0, \"#0d0887\"], [0.1111111111111111, \"#46039f\"], [0.2222222222222222, \"#7201a8\"], [0.3333333333333333, \"#9c179e\"], [0.4444444444444444, \"#bd3786\"], [0.5555555555555556, \"#d8576b\"], [0.6666666666666666, \"#ed7953\"], [0.7777777777777778, \"#fb9f3a\"], [0.8888888888888888, \"#fdca26\"], [1.0, \"#f0f921\"]], \"type\": \"surface\"}], \"table\": [{\"cells\": {\"fill\": {\"color\": \"#EBF0F8\"}, \"line\": {\"color\": \"white\"}}, \"header\": {\"fill\": {\"color\": \"#C8D4E3\"}, \"line\": {\"color\": \"white\"}}, \"type\": \"table\"}]}, \"layout\": {\"annotationdefaults\": {\"arrowcolor\": \"#2a3f5f\", \"arrowhead\": 0, \"arrowwidth\": 1}, \"autotypenumbers\": \"strict\", \"coloraxis\": {\"colorbar\": {\"outlinewidth\": 0, \"ticks\": \"\"}}, \"colorscale\": {\"diverging\": [[0, \"#8e0152\"], [0.1, \"#c51b7d\"], [0.2, \"#de77ae\"], [0.3, \"#f1b6da\"], [0.4, \"#fde0ef\"], [0.5, \"#f7f7f7\"], [0.6, \"#e6f5d0\"], [0.7, \"#b8e186\"], [0.8, \"#7fbc41\"], [0.9, \"#4d9221\"], [1, \"#276419\"]], \"sequential\": [[0.0, \"#0d0887\"], [0.1111111111111111, \"#46039f\"], [0.2222222222222222, \"#7201a8\"], [0.3333333333333333, \"#9c179e\"], [0.4444444444444444, \"#bd3786\"], [0.5555555555555556, \"#d8576b\"], [0.6666666666666666, \"#ed7953\"], [0.7777777777777778, \"#fb9f3a\"], [0.8888888888888888, \"#fdca26\"], [1.0, \"#f0f921\"]], \"sequentialminus\": [[0.0, \"#0d0887\"], [0.1111111111111111, \"#46039f\"], [0.2222222222222222, \"#7201a8\"], [0.3333333333333333, \"#9c179e\"], [0.4444444444444444, \"#bd3786\"], [0.5555555555555556, \"#d8576b\"], [0.6666666666666666, \"#ed7953\"], [0.7777777777777778, \"#fb9f3a\"], [0.8888888888888888, \"#fdca26\"], [1.0, \"#f0f921\"]]}, \"colorway\": [\"#636efa\", \"#EF553B\", \"#00cc96\", \"#ab63fa\", \"#FFA15A\", \"#19d3f3\", \"#FF6692\", \"#B6E880\", \"#FF97FF\", \"#FECB52\"], \"font\": {\"color\": \"#2a3f5f\"}, \"geo\": {\"bgcolor\": \"white\", \"lakecolor\": \"white\", \"landcolor\": \"#E5ECF6\", \"showlakes\": true, \"showland\": true, \"subunitcolor\": \"white\"}, \"hoverlabel\": {\"align\": \"left\"}, \"hovermode\": \"closest\", \"mapbox\": {\"style\": \"light\"}, \"paper_bgcolor\": \"white\", \"plot_bgcolor\": \"#E5ECF6\", \"polar\": {\"angularaxis\": {\"gridcolor\": \"white\", \"linecolor\": \"white\", \"ticks\": \"\"}, \"bgcolor\": \"#E5ECF6\", \"radialaxis\": {\"gridcolor\": \"white\", \"linecolor\": \"white\", \"ticks\": \"\"}}, \"scene\": {\"xaxis\": {\"backgroundcolor\": \"#E5ECF6\", \"gridcolor\": \"white\", \"gridwidth\": 2, \"linecolor\": \"white\", \"showbackground\": true, \"ticks\": \"\", \"zerolinecolor\": \"white\"}, \"yaxis\": {\"backgroundcolor\": \"#E5ECF6\", \"gridcolor\": \"white\", \"gridwidth\": 2, \"linecolor\": \"white\", \"showbackground\": true, \"ticks\": \"\", \"zerolinecolor\": \"white\"}, \"zaxis\": {\"backgroundcolor\": \"#E5ECF6\", \"gridcolor\": \"white\", \"gridwidth\": 2, \"linecolor\": \"white\", \"showbackground\": true, \"ticks\": \"\", \"zerolinecolor\": \"white\"}}, \"shapedefaults\": {\"line\": {\"color\": \"#2a3f5f\"}}, \"ternary\": {\"aaxis\": {\"gridcolor\": \"white\", \"linecolor\": \"white\", \"ticks\": \"\"}, \"baxis\": {\"gridcolor\": \"white\", \"linecolor\": \"white\", \"ticks\": \"\"}, \"bgcolor\": \"#E5ECF6\", \"caxis\": {\"gridcolor\": \"white\", \"linecolor\": \"white\", \"ticks\": \"\"}}, \"title\": {\"x\": 0.05}, \"xaxis\": {\"automargin\": true, \"gridcolor\": \"white\", \"linecolor\": \"white\", \"ticks\": \"\", \"title\": {\"standoff\": 15}, \"zerolinecolor\": \"white\", \"zerolinewidth\": 2}, \"yaxis\": {\"automargin\": true, \"gridcolor\": \"white\", \"linecolor\": \"white\", \"ticks\": \"\", \"title\": {\"standoff\": 15}, \"zerolinecolor\": \"white\", \"zerolinewidth\": 2}}}},                        {\"responsive\": true}                    ).then(function(){\n",
       "                            \n",
       "var gd = document.getElementById('beda0297-10ac-40fe-a2a8-5c9424c8fa35');\n",
       "var x = new MutationObserver(function (mutations, observer) {{\n",
       "        var display = window.getComputedStyle(gd).display;\n",
       "        if (!display || display === 'none') {{\n",
       "            console.log([gd, 'removed!']);\n",
       "            Plotly.purge(gd);\n",
       "            observer.disconnect();\n",
       "        }}\n",
       "}});\n",
       "\n",
       "// Listen for the removal of the full notebook cells\n",
       "var notebookContainer = gd.closest('#notebook-container');\n",
       "if (notebookContainer) {{\n",
       "    x.observe(notebookContainer, {childList: true});\n",
       "}}\n",
       "\n",
       "// Listen for the clearing of the current output cell\n",
       "var outputEl = gd.closest('.output');\n",
       "if (outputEl) {{\n",
       "    x.observe(outputEl, {childList: true});\n",
       "}}\n",
       "\n",
       "                        })                };                });            </script>        </div>"
      ]
     },
     "metadata": {},
     "output_type": "display_data"
    }
   ],
   "source": [
    "import numpy as np\n",
    "import plotly.graph_objects as go\n",
    "\n",
    "\n",
    "freq_0 = 1e4 #Hz\n",
    "freq_sample = 5e4 #Hz\n",
    "\n",
    "T_sample = 1/freq_sample\n",
    "\n",
    "sig = lambda x: np.cos(2*np.pi*freq_0*x)\n",
    "\n",
    "sig = lambda x: np.e**(2*np.pi*1j*freq_0*x)\n",
    "\n",
    "def fourier(sig,N_sample,T_sample):\n",
    "    x = np.arange(N_sample)\n",
    "    sig_val = sig(x*T_sample)\n",
    "    freq = np.fft.fftfreq(x.shape[-1],d=T_sample) #horizontal axis is frequencies\n",
    "    fft = np.fft.fft(sig_val)\n",
    "    return freq, 20*np.log((fft.imag**2+fft.real**2)**0.5)\n",
    "    \n",
    "\n",
    "#\n",
    "fig = go.Figure()\n",
    "N_sample = 100\n",
    "fourier_1 = fourier(sig, N_sample,T_sample)\n",
    "fig.add_trace(go.Scatter(x=fourier_1[0],y=fourier_1[1]))\n",
    "fig.show()\n",
    "\n",
    "#\n",
    "fig = go.Figure()\n",
    "N_sample = 101\n",
    "fourier_1 = fourier(sig, N_sample,T_sample)\n",
    "fig.add_trace(go.Scatter(x=fourier_1[0],y=fourier_1[1]))\n",
    "fig.show()\n",
    "\n",
    "#\n",
    "fig = go.Figure()\n",
    "N_sample = 1000\n",
    "fourier_1 = fourier(sig, N_sample,T_sample)\n",
    "fig.add_trace(go.Scatter(x=fourier_1[0],y=fourier_1[1]))\n",
    "fig.show()\n"
   ]
  }
 ],
 "metadata": {
  "kernelspec": {
   "display_name": "Python 3",
   "language": "python",
   "name": "python3"
  },
  "language_info": {
   "codemirror_mode": {
    "name": "ipython",
    "version": 3
   },
   "file_extension": ".py",
   "mimetype": "text/x-python",
   "name": "python",
   "nbconvert_exporter": "python",
   "pygments_lexer": "ipython3",
   "version": "3.9.1"
  }
 },
 "nbformat": 4,
 "nbformat_minor": 5
}
